{
  "nbformat": 4,
  "nbformat_minor": 0,
  "metadata": {
    "colab": {
      "name": "English_raw200_model execution.ipynb",
      "provenance": [],
      "toc_visible": true
    },
    "kernelspec": {
      "name": "python3",
      "display_name": "Python 3"
    },
    "accelerator": "GPU"
  },
  "cells": [
    {
      "cell_type": "code",
      "metadata": {
        "id": "on9qxdQg_3cp",
        "outputId": "1abce542-8d61-45c0-8ca4-c05275a69623",
        "colab": {
          "base_uri": "https://localhost:8080/",
          "height": 55
        }
      },
      "source": [
        "from google.colab import drive\n",
        "drive.mount('/content/mydrive')"
      ],
      "execution_count": 32,
      "outputs": [
        {
          "output_type": "stream",
          "text": [
            "Drive already mounted at /content/mydrive; to attempt to forcibly remount, call drive.mount(\"/content/mydrive\", force_remount=True).\n"
          ],
          "name": "stdout"
        }
      ]
    },
    {
      "cell_type": "code",
      "metadata": {
        "id": "d6SR6uwC_7Y-",
        "outputId": "118a5ec7-3cb7-4d09-b7eb-ef7b7c41b768",
        "colab": {
          "base_uri": "https://localhost:8080/",
          "height": 35
        }
      },
      "source": [
        "#change the current directory to the path where the given file is residing\n",
        "import os\n",
        "os.chdir('/content/mydrive/My Drive/Colab Notebooks')\n",
        "os.getcwd()"
      ],
      "execution_count": 33,
      "outputs": [
        {
          "output_type": "execute_result",
          "data": {
            "application/vnd.google.colaboratory.intrinsic+json": {
              "type": "string"
            },
            "text/plain": [
              "'/content/mydrive/My Drive/Colab Notebooks'"
            ]
          },
          "metadata": {
            "tags": []
          },
          "execution_count": 33
        }
      ]
    },
    {
      "cell_type": "code",
      "metadata": {
        "id": "UPML_i0yAFst"
      },
      "source": [
        "import warnings\n",
        "warnings.filterwarnings('ignore')"
      ],
      "execution_count": 34,
      "outputs": []
    },
    {
      "cell_type": "code",
      "metadata": {
        "id": "q1sCS-isAIN5"
      },
      "source": [
        "import pandas as pd\n",
        "import numpy as np"
      ],
      "execution_count": 35,
      "outputs": []
    },
    {
      "cell_type": "code",
      "metadata": {
        "id": "k78zB5UFAKac"
      },
      "source": [
        "#raw data\n",
        "raw_x_train =  pd.read_pickle('raw200_x_train.pkl')\n",
        "raw_y_train =  np.array(pd.read_pickle('raw200_y_train.pkl'))\n",
        "\n",
        "raw_x_test = pd.read_pickle('raw200_x_test.pkl')\n",
        "raw_y_test = np.array(pd.read_pickle('raw200_y_test.pkl'))\n",
        "\n",
        "raw_x_val = pd.read_pickle('raw200_x_val.pkl')\n",
        "raw_y_val = np.array(pd.read_pickle('raw200_y_val.pkl'))"
      ],
      "execution_count": 36,
      "outputs": []
    },
    {
      "cell_type": "code",
      "metadata": {
        "id": "VMq6ZPc2JXq7",
        "outputId": "bd9170f2-6a6a-46a9-892f-5bb00fce455b",
        "colab": {
          "base_uri": "https://localhost:8080/",
          "height": 69
        }
      },
      "source": [
        "#accuracy score dataframe\n",
        "accuracy_df = pd.DataFrame([], columns = ['Train_Precision', 'Train_Recall','Train_Auc', 'Train_Accuracy','Val_Precision', \n",
        "                                          'Val_Recall', 'Val_F1','Val_Auc', 'Val_Accuracy','Test_Precision', 'Test_Recall', \n",
        "                                          'Test_F1', 'Test_Auc', 'Test_Accuracy'])\n",
        "accuracy_df.head()"
      ],
      "execution_count": 37,
      "outputs": [
        {
          "output_type": "execute_result",
          "data": {
            "text/html": [
              "<div>\n",
              "<style scoped>\n",
              "    .dataframe tbody tr th:only-of-type {\n",
              "        vertical-align: middle;\n",
              "    }\n",
              "\n",
              "    .dataframe tbody tr th {\n",
              "        vertical-align: top;\n",
              "    }\n",
              "\n",
              "    .dataframe thead th {\n",
              "        text-align: right;\n",
              "    }\n",
              "</style>\n",
              "<table border=\"1\" class=\"dataframe\">\n",
              "  <thead>\n",
              "    <tr style=\"text-align: right;\">\n",
              "      <th></th>\n",
              "      <th>Train_Precision</th>\n",
              "      <th>Train_Recall</th>\n",
              "      <th>Train_Auc</th>\n",
              "      <th>Train_Accuracy</th>\n",
              "      <th>Val_Precision</th>\n",
              "      <th>Val_Recall</th>\n",
              "      <th>Val_F1</th>\n",
              "      <th>Val_Auc</th>\n",
              "      <th>Val_Accuracy</th>\n",
              "      <th>Test_Precision</th>\n",
              "      <th>Test_Recall</th>\n",
              "      <th>Test_F1</th>\n",
              "      <th>Test_Auc</th>\n",
              "      <th>Test_Accuracy</th>\n",
              "    </tr>\n",
              "  </thead>\n",
              "  <tbody>\n",
              "  </tbody>\n",
              "</table>\n",
              "</div>"
            ],
            "text/plain": [
              "Empty DataFrame\n",
              "Columns: [Train_Precision, Train_Recall, Train_Auc, Train_Accuracy, Val_Precision, Val_Recall, Val_F1, Val_Auc, Val_Accuracy, Test_Precision, Test_Recall, Test_F1, Test_Auc, Test_Accuracy]\n",
              "Index: []"
            ]
          },
          "metadata": {
            "tags": []
          },
          "execution_count": 37
        }
      ]
    },
    {
      "cell_type": "code",
      "metadata": {
        "id": "PcgLdA1MCCU3",
        "outputId": "7ccbc403-fe03-4d09-aed6-3367afc752cd",
        "colab": {
          "base_uri": "https://localhost:8080/",
          "height": 69
        }
      },
      "source": [
        "print('maximum_length of train data:', raw_x_train.str.split(' ').map(lambda x: len(x)).max())\n",
        "print('maximum_length of validation data:', raw_x_val.str.split(' ').map(lambda x: len(x)).max())\n",
        "print('maximum_length of test data:', raw_x_test.str.split(' ').map(lambda x: len(x)).max())"
      ],
      "execution_count": 38,
      "outputs": [
        {
          "output_type": "stream",
          "text": [
            "maximum_length of train data: 204\n",
            "maximum_length of validation data: 214\n",
            "maximum_length of test data: 208\n"
          ],
          "name": "stdout"
        }
      ]
    },
    {
      "cell_type": "code",
      "metadata": {
        "id": "5Gep-kDsCFbX"
      },
      "source": [
        "max_len = 214"
      ],
      "execution_count": 39,
      "outputs": []
    },
    {
      "cell_type": "markdown",
      "metadata": {
        "id": "c6Yc8-zqCI4i"
      },
      "source": [
        "!!!!!!!!!!! IMPORTANT NOTE !!!!!!!!!!      \n",
        "       \n",
        "The below set of codes can be done only for scratch models and not for pretrained ones.           \n",
        "\n",
        "For pretrained models, we need to use the respective tokenizers.\n",
        "\n",
        "<< START OF THE CODE >>"
      ]
    },
    {
      "cell_type": "code",
      "metadata": {
        "id": "b-4VzkIMANOh"
      },
      "source": [
        "#now collect all the tokens from the data file\n",
        "dist_list = []\n",
        "\n",
        "for i in raw_x_train:\n",
        "  dist_list.extend(i.split(' '))\n",
        "\n",
        "for i in raw_x_val:\n",
        "  dist_list.extend(i.split(' '))\n",
        "\n",
        "for i in raw_x_test:\n",
        "  dist_list.extend(i.split(' '))"
      ],
      "execution_count": 40,
      "outputs": []
    },
    {
      "cell_type": "code",
      "metadata": {
        "id": "GJPpM953CU3P"
      },
      "source": [
        "#remove the duplicates\n",
        "final_dist_list = list(set(dist_list))"
      ],
      "execution_count": 41,
      "outputs": []
    },
    {
      "cell_type": "code",
      "metadata": {
        "id": "gYnDHngbCYI1"
      },
      "source": [
        "word_dict = {}\n",
        "index1 = 0\n",
        "\n",
        "#create index for the above extracted words\n",
        "for word in final_dist_list:\n",
        "  index1 += 1\n",
        "  word_dict[word] = index1"
      ],
      "execution_count": 42,
      "outputs": []
    },
    {
      "cell_type": "code",
      "metadata": {
        "id": "AmNGDDVfCahz",
        "outputId": "ef10e30a-477e-4c1d-fa92-1f356aa081d1",
        "colab": {
          "base_uri": "https://localhost:8080/",
          "height": 1000
        }
      },
      "source": [
        "word_dict"
      ],
      "execution_count": 43,
      "outputs": [
        {
          "output_type": "execute_result",
          "data": {
            "text/plain": [
              "{'verified': 1,\n",
              " 'sound': 2,\n",
              " 'exit': 3,\n",
              " 'automation': 4,\n",
              " 'suspect': 5,\n",
              " 'therefore': 6,\n",
              " 'interactive': 7,\n",
              " 'window': 8,\n",
              " 'desk': 9,\n",
              " 'shutdown': 10,\n",
              " 'echo': 11,\n",
              " 'prompt': 12,\n",
              " 'directory': 13,\n",
              " 'tool': 14,\n",
              " 'indra': 15,\n",
              " 'incoming': 16,\n",
              " 'subject': 17,\n",
              " 'believe': 18,\n",
              " 'touch': 19,\n",
              " 'queue': 20,\n",
              " 'ee': 21,\n",
              " 'thought': 22,\n",
              " 'bit': 23,\n",
              " 'eb': 24,\n",
              " 'rectify': 25,\n",
              " 'dot': 26,\n",
              " 'ticketing': 27,\n",
              " 'sherlock': 28,\n",
              " 'forgot': 29,\n",
              " 'create': 30,\n",
              " 'normally': 31,\n",
              " 'periodic': 32,\n",
              " 'operation': 33,\n",
              " 'retrieve': 34,\n",
              " 'ad': 35,\n",
              " 'common': 36,\n",
              " 'bob': 37,\n",
              " 'sale': 38,\n",
              " 'nc': 39,\n",
              " 'full': 40,\n",
              " 'macro': 41,\n",
              " 'previously': 42,\n",
              " 'typing': 43,\n",
              " 'computer': 44,\n",
              " 'station': 45,\n",
              " 'rad': 46,\n",
              " 'connect': 47,\n",
              " 'network': 48,\n",
              " 'exchange': 49,\n",
              " 'bottom': 50,\n",
              " 'reschedule': 51,\n",
              " 'nearly': 52,\n",
              " 'fault': 53,\n",
              " 'publish': 54,\n",
              " 'identify': 55,\n",
              " 'pe': 56,\n",
              " 'ear': 57,\n",
              " 'dock': 58,\n",
              " 'image': 59,\n",
              " 'bi': 60,\n",
              " 'exist': 61,\n",
              " 'territory': 62,\n",
              " 'compliance': 63,\n",
              " 'toll': 64,\n",
              " 'ticket': 65,\n",
              " 'loop': 66,\n",
              " 'permanent': 67,\n",
              " 'earlier': 68,\n",
              " 'worker': 69,\n",
              " 'needful': 70,\n",
              " 'outbound': 71,\n",
              " 'weekend': 72,\n",
              " 'cycle': 73,\n",
              " 'stay': 74,\n",
              " 'html': 75,\n",
              " 'anti': 76,\n",
              " 'unlock': 77,\n",
              " 'limitation': 78,\n",
              " 'unauthorized': 79,\n",
              " 'powder': 80,\n",
              " 'threshold': 81,\n",
              " 'sensor': 82,\n",
              " 'page': 83,\n",
              " 'block': 84,\n",
              " 'receiving': 85,\n",
              " 'acc': 86,\n",
              " 'chief': 87,\n",
              " 'sle': 88,\n",
              " 'authenticate': 89,\n",
              " 'panel': 90,\n",
              " 'bring': 91,\n",
              " 'quick': 92,\n",
              " 'solid': 93,\n",
              " 'replacement': 94,\n",
              " 'latitude': 95,\n",
              " 'russia': 96,\n",
              " 'service': 97,\n",
              " 'involve': 98,\n",
              " 'average': 99,\n",
              " 'frequent': 100,\n",
              " 'duplicate': 101,\n",
              " 'external': 102,\n",
              " 'italy': 103,\n",
              " 'tender': 104,\n",
              " 'extract': 105,\n",
              " 'infrastructure': 106,\n",
              " 'director': 107,\n",
              " 'always': 108,\n",
              " 'recently': 109,\n",
              " 'attachment': 110,\n",
              " 'track': 111,\n",
              " 'summary': 112,\n",
              " 'long': 113,\n",
              " 'chance': 114,\n",
              " 'plug': 115,\n",
              " 'europe': 116,\n",
              " 'broadband': 117,\n",
              " 'yellow': 118,\n",
              " 'scheduler': 119,\n",
              " 'thanking': 120,\n",
              " 'accounting': 121,\n",
              " 'planning': 122,\n",
              " 'cooperation': 123,\n",
              " 'ii': 124,\n",
              " 'efficiency': 125,\n",
              " 'invitation': 126,\n",
              " 'disconnection': 127,\n",
              " 'blue': 128,\n",
              " 'java': 129,\n",
              " 'dynamics': 130,\n",
              " 'purchasing': 131,\n",
              " 'amend': 132,\n",
              " 'trace': 133,\n",
              " 'base': 134,\n",
              " 'field': 135,\n",
              " 'min': 136,\n",
              " 'restriction': 137,\n",
              " 'measure': 138,\n",
              " 'dd': 139,\n",
              " 'alarm': 140,\n",
              " 'working': 141,\n",
              " 'design': 142,\n",
              " 'direct': 143,\n",
              " 'think': 144,\n",
              " 'solver': 145,\n",
              " 'improperly': 146,\n",
              " 'unavailable': 147,\n",
              " 'signal': 148,\n",
              " 'account': 149,\n",
              " 'catalog': 150,\n",
              " 'activity': 151,\n",
              " 'item': 152,\n",
              " 'cell': 153,\n",
              " 'route': 154,\n",
              " 'executive': 155,\n",
              " 'reinstate': 156,\n",
              " 'balance': 157,\n",
              " 'own': 158,\n",
              " 'ess': 159,\n",
              " 'initial': 160,\n",
              " 'two': 161,\n",
              " 'validity': 162,\n",
              " 'bay': 163,\n",
              " 'backup': 164,\n",
              " 'one': 165,\n",
              " 'robot': 166,\n",
              " 'poland': 167,\n",
              " 'ethical': 168,\n",
              " 'editor': 169,\n",
              " 'cache': 170,\n",
              " 'able': 171,\n",
              " 'resolution': 172,\n",
              " 'display': 173,\n",
              " 'representative': 174,\n",
              " 'credential': 175,\n",
              " 'separate': 176,\n",
              " 'much': 177,\n",
              " 'ethic': 178,\n",
              " 'web': 179,\n",
              " 'passwords': 180,\n",
              " 'portable': 181,\n",
              " 'tess': 182,\n",
              " 'maintenance': 183,\n",
              " 'malicious': 184,\n",
              " 'generate': 185,\n",
              " 'important': 186,\n",
              " 'lot': 187,\n",
              " 'probe': 188,\n",
              " 'yet': 189,\n",
              " 'change': 190,\n",
              " 'destine': 191,\n",
              " 'usa': 192,\n",
              " 'basis': 193,\n",
              " 'inwarehouse': 194,\n",
              " 'mouse': 195,\n",
              " 'extend': 196,\n",
              " 'mac': 197,\n",
              " 'bytes': 198,\n",
              " 'less': 199,\n",
              " 'respond': 200,\n",
              " 'helpdesk': 201,\n",
              " 'encoding': 202,\n",
              " 'ascii': 203,\n",
              " 'put': 204,\n",
              " 'somebody': 205,\n",
              " 'provider': 206,\n",
              " 'corrupt': 207,\n",
              " 'connected': 208,\n",
              " 'awareness': 209,\n",
              " 'tone': 210,\n",
              " 'keep': 211,\n",
              " 'colleague': 212,\n",
              " 'every': 213,\n",
              " 'stack': 214,\n",
              " 'misplaced': 215,\n",
              " 'aware': 216,\n",
              " 'workflow': 217,\n",
              " 'building': 218,\n",
              " 'development': 219,\n",
              " 'get': 220,\n",
              " 'single': 221,\n",
              " 'difficult': 222,\n",
              " 'floor': 223,\n",
              " 'job': 224,\n",
              " 'crash': 225,\n",
              " 'sind': 226,\n",
              " 'chain': 227,\n",
              " 'white': 228,\n",
              " 'twice': 229,\n",
              " 'modify': 230,\n",
              " 'km': 231,\n",
              " 'hold': 232,\n",
              " 'netscape': 233,\n",
              " 'folder': 234,\n",
              " 'daily': 235,\n",
              " 'quickly': 236,\n",
              " 'branch': 237,\n",
              " 'tcp': 238,\n",
              " 'point': 239,\n",
              " 'particular': 240,\n",
              " 'thing': 241,\n",
              " 'faulty': 242,\n",
              " 'box': 243,\n",
              " 'card': 244,\n",
              " 'handle': 245,\n",
              " 'compromise': 246,\n",
              " 'nd': 247,\n",
              " 'bw': 248,\n",
              " 'dialing': 249,\n",
              " 'document': 250,\n",
              " 'approver': 251,\n",
              " 'quarantine': 252,\n",
              " 'ensure': 253,\n",
              " 'order': 254,\n",
              " 'dial': 255,\n",
              " 'explorer': 256,\n",
              " 'industrial': 257,\n",
              " 'additional': 258,\n",
              " 'pacific': 259,\n",
              " 'finance': 260,\n",
              " 'spreadsheet': 261,\n",
              " 'pad': 262,\n",
              " 'explain': 263,\n",
              " 'least': 264,\n",
              " 'aug': 265,\n",
              " 'european': 266,\n",
              " 'incorrect': 267,\n",
              " 'dialog': 268,\n",
              " 'unit': 269,\n",
              " 'form': 270,\n",
              " 'behalf': 271,\n",
              " 'select': 272,\n",
              " 'printing': 273,\n",
              " 'response': 274,\n",
              " 'receive': 275,\n",
              " 'ms': 276,\n",
              " 'capacity': 277,\n",
              " 'light': 278,\n",
              " 'small': 279,\n",
              " 'material': 280,\n",
              " 'already': 281,\n",
              " 'old': 282,\n",
              " 'alert': 283,\n",
              " 'requisition': 284,\n",
              " 'unfreeze': 285,\n",
              " 'mileage': 286,\n",
              " 'label': 287,\n",
              " 'urgently': 288,\n",
              " 'review': 289,\n",
              " 'owner': 290,\n",
              " 'access': 291,\n",
              " 'begin': 292,\n",
              " 'variable': 293,\n",
              " 'restart': 294,\n",
              " 'contact': 295,\n",
              " 'everyday': 296,\n",
              " 'second': 297,\n",
              " 'controller': 298,\n",
              " 'shift': 299,\n",
              " 'nv': 300,\n",
              " 'contacted': 301,\n",
              " 'player': 302,\n",
              " 'red': 303,\n",
              " 'hear': 304,\n",
              " 'lead': 305,\n",
              " 'affect': 306,\n",
              " 'analyze': 307,\n",
              " 'activation': 308,\n",
              " 'suddenly': 309,\n",
              " 'thumb': 310,\n",
              " 'intermittently': 311,\n",
              " 'lean': 312,\n",
              " 'potential': 313,\n",
              " 'somewhere': 314,\n",
              " 'lost': 315,\n",
              " 'win': 316,\n",
              " 'duration': 317,\n",
              " 'cf': 318,\n",
              " 'se': 319,\n",
              " 'recovery': 320,\n",
              " 'factory': 321,\n",
              " 'ever': 322,\n",
              " 'spare': 323,\n",
              " 'private': 324,\n",
              " 'right': 325,\n",
              " 'instal': 326,\n",
              " 'busy': 327,\n",
              " 'monitoring': 328,\n",
              " 'shoot': 329,\n",
              " 'indicate': 330,\n",
              " 'seem': 331,\n",
              " 'property': 332,\n",
              " 'financial': 333,\n",
              " 'net': 334,\n",
              " 'organisation': 335,\n",
              " 'educate': 336,\n",
              " 'bridge': 337,\n",
              " 'friend': 338,\n",
              " 'exception': 339,\n",
              " 'people': 340,\n",
              " 'sky': 341,\n",
              " 'personnel': 342,\n",
              " 'otc': 343,\n",
              " 'turkey': 344,\n",
              " 'fix': 345,\n",
              " 'correctly': 346,\n",
              " 'temp': 347,\n",
              " 'submit': 348,\n",
              " 'choose': 349,\n",
              " 'filler': 350,\n",
              " 'investigate': 351,\n",
              " 'dedicate': 352,\n",
              " 'bag': 353,\n",
              " 'active': 354,\n",
              " 'immediately': 355,\n",
              " 'usually': 356,\n",
              " 'way': 357,\n",
              " 'coast': 358,\n",
              " 'behavior': 359,\n",
              " 'priority': 360,\n",
              " 'blank': 361,\n",
              " 'technical': 362,\n",
              " 'employment': 363,\n",
              " 'meeting': 364,\n",
              " 'release': 365,\n",
              " 'input': 366,\n",
              " 'laser': 367,\n",
              " 'cert': 368,\n",
              " 'screen': 369,\n",
              " 'viewer': 370,\n",
              " 'studio': 371,\n",
              " 'realize': 372,\n",
              " 'launcher': 373,\n",
              " 'product': 374,\n",
              " 'password': 375,\n",
              " 'export': 376,\n",
              " 'addition': 377,\n",
              " 'est': 378,\n",
              " 'archive': 379,\n",
              " 'mode': 380,\n",
              " 'unresolved': 381,\n",
              " 'hr': 382,\n",
              " 'lowercase': 383,\n",
              " 'difficulty': 384,\n",
              " 'accordingly': 385,\n",
              " 'legitimate': 386,\n",
              " 'configuration': 387,\n",
              " 'remote': 388,\n",
              " 'module': 389,\n",
              " 'centre': 390,\n",
              " 'kick': 391,\n",
              " 'oder': 392,\n",
              " 'soft': 393,\n",
              " 'carlos': 394,\n",
              " 'round': 395,\n",
              " 'symbol': 396,\n",
              " 'shortly': 397,\n",
              " 'assembly': 398,\n",
              " 'say': 399,\n",
              " 'cad': 400,\n",
              " 'agent': 401,\n",
              " 'scan': 402,\n",
              " 'lit': 403,\n",
              " 'observation': 404,\n",
              " 'genius': 405,\n",
              " 'tab': 406,\n",
              " 'dynamic': 407,\n",
              " 'log': 408,\n",
              " 'vacation': 409,\n",
              " 'disable': 410,\n",
              " 'little': 411,\n",
              " 'audio': 412,\n",
              " 'monthly': 413,\n",
              " 'spain': 414,\n",
              " 'ftp': 415,\n",
              " 'join': 416,\n",
              " 'projection': 417,\n",
              " 'west': 418,\n",
              " 'der': 419,\n",
              " 'excel': 420,\n",
              " 'around': 421,\n",
              " 'flowchart': 422,\n",
              " 'freeze': 423,\n",
              " 'blink': 424,\n",
              " 'detect': 425,\n",
              " 'appointment': 426,\n",
              " 'mass': 427,\n",
              " 'month': 428,\n",
              " 'flicker': 429,\n",
              " 'individual': 430,\n",
              " 'damage': 431,\n",
              " 'today': 432,\n",
              " 'actual': 433,\n",
              " 'na': 434,\n",
              " 'shut': 435,\n",
              " 'scanner': 436,\n",
              " 'reflect': 437,\n",
              " 'peer': 438,\n",
              " 'many': 439,\n",
              " 'inside': 440,\n",
              " 'main': 441,\n",
              " 'australia': 442,\n",
              " 'drop': 443,\n",
              " 'occur': 444,\n",
              " 'highlight': 445,\n",
              " 'refresh': 446,\n",
              " 'virus': 447,\n",
              " 'driver': 448,\n",
              " 'byte': 449,\n",
              " 'hp': 450,\n",
              " 'switzerland': 451,\n",
              " 'unchecked': 452,\n",
              " 'travel': 453,\n",
              " 'type': 454,\n",
              " 'insufficient': 455,\n",
              " 'indirect': 456,\n",
              " 'fe': 457,\n",
              " 'noise': 458,\n",
              " 'lap': 459,\n",
              " 'presentation': 460,\n",
              " 'open': 461,\n",
              " 'mess': 462,\n",
              " 'attendance': 463,\n",
              " 'equipment': 464,\n",
              " 'president': 465,\n",
              " 'revert': 466,\n",
              " 'warn': 467,\n",
              " 'depend': 468,\n",
              " 'printers': 469,\n",
              " 'capture': 470,\n",
              " 'en': 471,\n",
              " 'village': 472,\n",
              " 'inquiry': 473,\n",
              " 'template': 474,\n",
              " 'manually': 475,\n",
              " 'attach': 476,\n",
              " 'br': 477,\n",
              " 'valid': 478,\n",
              " 'holder': 479,\n",
              " 'sufficient': 480,\n",
              " 'noon': 481,\n",
              " 'fine': 482,\n",
              " 'run': 483,\n",
              " 'following': 484,\n",
              " 'mail': 485,\n",
              " 'absolutely': 486,\n",
              " 'component': 487,\n",
              " 'contract': 488,\n",
              " 'add': 489,\n",
              " 'choice': 490,\n",
              " 'anonymous': 491,\n",
              " 'deployment': 492,\n",
              " 'hence': 493,\n",
              " 'return': 494,\n",
              " 'suppose': 495,\n",
              " 'certificate': 496,\n",
              " 'roll': 497,\n",
              " 'repair': 498,\n",
              " 'trainer': 499,\n",
              " 'pivot': 500,\n",
              " 'cvss': 501,\n",
              " 'link': 502,\n",
              " 'unable': 503,\n",
              " 'lease': 504,\n",
              " 'update': 505,\n",
              " 'role': 506,\n",
              " 'sa': 507,\n",
              " 'german': 508,\n",
              " 'buy': 509,\n",
              " 'broken': 510,\n",
              " 'segment': 511,\n",
              " 'suggest': 512,\n",
              " 'do': 513,\n",
              " 'clean': 514,\n",
              " 'master': 515,\n",
              " 'space': 516,\n",
              " 'english': 517,\n",
              " 'payslip': 518,\n",
              " 'perform': 519,\n",
              " 'insurance': 520,\n",
              " 'hard': 521,\n",
              " 'take': 522,\n",
              " 'rule': 523,\n",
              " 'quality': 524,\n",
              " 'conduct': 525,\n",
              " 'ontology': 526,\n",
              " 'check': 527,\n",
              " 'coordinator': 528,\n",
              " 'column': 529,\n",
              " 'completion': 530,\n",
              " 'persist': 531,\n",
              " 'generating': 532,\n",
              " 'outside': 533,\n",
              " 'remain': 534,\n",
              " 'advise': 535,\n",
              " 'mss': 536,\n",
              " 'operator': 537,\n",
              " 'ids': 538,\n",
              " 'row': 539,\n",
              " 'preparedness': 540,\n",
              " 'snapshot': 541,\n",
              " 'rep': 542,\n",
              " 'message': 543,\n",
              " 'statistics': 544,\n",
              " 'carve': 545,\n",
              " 'delete': 546,\n",
              " 'confirmation': 547,\n",
              " 'raise': 548,\n",
              " 'notification': 549,\n",
              " 'protocol': 550,\n",
              " 'deactivate': 551,\n",
              " 'queuing': 552,\n",
              " 'specialist': 553,\n",
              " 'spin': 554,\n",
              " 'area': 555,\n",
              " 'answer': 556,\n",
              " 'store': 557,\n",
              " 'activate': 558,\n",
              " 'den': 559,\n",
              " 'forget': 560,\n",
              " 'back': 561,\n",
              " 'signature': 562,\n",
              " 'confidential': 563,\n",
              " 'authentication': 564,\n",
              " 'dba': 565,\n",
              " 'collaboration': 566,\n",
              " 'consider': 567,\n",
              " 'carrier': 568,\n",
              " 'function': 569,\n",
              " 'font': 570,\n",
              " 'almost': 571,\n",
              " 'failing': 572,\n",
              " 'no': 573,\n",
              " 'disk': 574,\n",
              " 'reachable': 575,\n",
              " 'observe': 576,\n",
              " 'abended': 577,\n",
              " 'especially': 578,\n",
              " 'fiber': 579,\n",
              " 'often': 580,\n",
              " 'whole': 581,\n",
              " 'locate': 582,\n",
              " 'supply': 583,\n",
              " 'processing': 584,\n",
              " 'statistic': 585,\n",
              " 'receipt': 586,\n",
              " 'manger': 587,\n",
              " 'sync': 588,\n",
              " 'amount': 589,\n",
              " 'idea': 590,\n",
              " 'uk': 591,\n",
              " 'nobody': 592,\n",
              " 'continue': 593,\n",
              " 'pa': 594,\n",
              " 'requester': 595,\n",
              " 'original': 596,\n",
              " 'wireless': 597,\n",
              " 'sheet': 598,\n",
              " 'memory': 599,\n",
              " 'blocker': 600,\n",
              " 'away': 601,\n",
              " 'former': 602,\n",
              " 'describe': 603,\n",
              " 'online': 604,\n",
              " 'finished': 605,\n",
              " 'pull': 606,\n",
              " 'manager': 607,\n",
              " 'drill': 608,\n",
              " 'zone': 609,\n",
              " 'name': 610,\n",
              " 'reply': 611,\n",
              " 'fence': 612,\n",
              " 'decommission': 613,\n",
              " 'session': 614,\n",
              " 'usage': 615,\n",
              " 'build': 616,\n",
              " 'temporary': 617,\n",
              " 'battery': 618,\n",
              " 'accountant': 619,\n",
              " 'ts': 620,\n",
              " 'carbide': 621,\n",
              " 'easy': 622,\n",
              " 'couple': 623,\n",
              " 'operational': 624,\n",
              " 'mapping': 625,\n",
              " 'recall': 626,\n",
              " 'hand': 627,\n",
              " 'acquire': 628,\n",
              " 'enclose': 629,\n",
              " 'try': 630,\n",
              " 'across': 631,\n",
              " 'stock': 632,\n",
              " 'unlocking': 633,\n",
              " 'up': 634,\n",
              " 'authentic': 635,\n",
              " 'mx': 636,\n",
              " 'draft': 637,\n",
              " 'ver': 638,\n",
              " 'greeting': 639,\n",
              " 'plant': 640,\n",
              " 'snip': 641,\n",
              " 'salary': 642,\n",
              " 'affected': 643,\n",
              " 'meantime': 644,\n",
              " 'discount': 645,\n",
              " 'steel': 646,\n",
              " 'nothing': 647,\n",
              " 'expire': 648,\n",
              " 'pop': 649,\n",
              " 'wifi': 650,\n",
              " 'professional': 651,\n",
              " 'briefly': 652,\n",
              " 'bite': 653,\n",
              " 'soap': 654,\n",
              " 'agreement': 655,\n",
              " 'currently': 656,\n",
              " 'earliest': 657,\n",
              " 'must': 658,\n",
              " 'temporarily': 659,\n",
              " 'push': 660,\n",
              " 'kind': 661,\n",
              " 'unlocked': 662,\n",
              " 'precision': 663,\n",
              " 'fail': 664,\n",
              " 'engineering': 665,\n",
              " 'handling': 666,\n",
              " 'follow': 667,\n",
              " 'trainee': 668,\n",
              " 'video': 669,\n",
              " 'high': 670,\n",
              " 'leadership': 671,\n",
              " 'infect': 672,\n",
              " 'intermittent': 673,\n",
              " 'bunch': 674,\n",
              " 'platform': 675,\n",
              " 'bk': 676,\n",
              " 'feature': 677,\n",
              " 'calendars': 678,\n",
              " 'contain': 679,\n",
              " 'adopter': 680,\n",
              " 'limited': 681,\n",
              " 'press': 682,\n",
              " 'bc': 683,\n",
              " 'determine': 684,\n",
              " 'period': 685,\n",
              " 'local': 686,\n",
              " 'tablet': 687,\n",
              " 'tracker': 688,\n",
              " 'startup': 689,\n",
              " 'move': 690,\n",
              " 'planner': 691,\n",
              " 'hinge': 692,\n",
              " 'unique': 693,\n",
              " 'primary': 694,\n",
              " 'down': 695,\n",
              " 'paralegal': 696,\n",
              " 'migration': 697,\n",
              " 'another': 698,\n",
              " 'archived': 699,\n",
              " 'kicked': 700,\n",
              " 'applications': 701,\n",
              " 'upgrade': 702,\n",
              " 'utilization': 703,\n",
              " 'urgent': 704,\n",
              " 'assume': 705,\n",
              " 'method': 706,\n",
              " 'management': 707,\n",
              " 'comp': 708,\n",
              " 'reactivate': 709,\n",
              " 'conference': 710,\n",
              " 'member': 711,\n",
              " 'diagnostic': 712,\n",
              " 'work': 713,\n",
              " 'trouble': 714,\n",
              " 'quite': 715,\n",
              " 'unblock': 716,\n",
              " 'windows': 717,\n",
              " 'zip': 718,\n",
              " 'tape': 719,\n",
              " 'reduce': 720,\n",
              " 'query': 721,\n",
              " 'position': 722,\n",
              " 'description': 723,\n",
              " 'purpose': 724,\n",
              " 'length': 725,\n",
              " 'unfortunately': 726,\n",
              " 'crashing': 727,\n",
              " 'ed': 728,\n",
              " 'number': 729,\n",
              " 'confirm': 730,\n",
              " 'traffic': 731,\n",
              " 'services': 732,\n",
              " 'prior': 733,\n",
              " 'creation': 734,\n",
              " 'may': 735,\n",
              " 'meet': 736,\n",
              " 'produce': 737,\n",
              " 'notify': 738,\n",
              " 'place': 739,\n",
              " 'mp': 740,\n",
              " 'well': 741,\n",
              " 'reinstall': 742,\n",
              " 'ware': 743,\n",
              " 'problem': 744,\n",
              " 'total': 745,\n",
              " 'inactive': 746,\n",
              " 'regional': 747,\n",
              " 'site': 748,\n",
              " 'senior': 749,\n",
              " 'assistance': 750,\n",
              " 'end': 751,\n",
              " 'balancing': 752,\n",
              " 'kingdom': 753,\n",
              " 'category': 754,\n",
              " 'fan': 755,\n",
              " 'dongle': 756,\n",
              " 'crm': 757,\n",
              " 'universal': 758,\n",
              " 'minute': 759,\n",
              " 'correction': 760,\n",
              " 'stand': 761,\n",
              " 'watch': 762,\n",
              " 'require': 763,\n",
              " 'shot': 764,\n",
              " 'te': 765,\n",
              " 'different': 766,\n",
              " 'want': 767,\n",
              " 'front': 768,\n",
              " 'remotely': 769,\n",
              " 'batch': 770,\n",
              " 'juarez': 771,\n",
              " 'plus': 772,\n",
              " 'stuck': 773,\n",
              " 'load': 774,\n",
              " 'happen': 775,\n",
              " 'various': 776,\n",
              " 'pack': 777,\n",
              " 'mobility': 778,\n",
              " 'information': 779,\n",
              " 'maintain': 780,\n",
              " 'secure': 781,\n",
              " 'ping': 782,\n",
              " 'break': 783,\n",
              " 'microsoft': 784,\n",
              " 'vulnerability': 785,\n",
              " 'room': 786,\n",
              " 'condition': 787,\n",
              " 'ron': 788,\n",
              " 'hang': 789,\n",
              " 'memo': 790,\n",
              " 'include': 791,\n",
              " 'stick': 792,\n",
              " 'training': 793,\n",
              " 'schedule': 794,\n",
              " 'loud': 795,\n",
              " 'installation': 796,\n",
              " 'tn': 797,\n",
              " 'connectivity': 798,\n",
              " 'text': 799,\n",
              " 'format': 800,\n",
              " 'bd': 801,\n",
              " 'prod': 802,\n",
              " 'machine': 803,\n",
              " 'flag': 804,\n",
              " 'actually': 805,\n",
              " 'states': 806,\n",
              " 'administration': 807,\n",
              " 'install': 808,\n",
              " 'verify': 809,\n",
              " 'smart': 810,\n",
              " 'xss': 811,\n",
              " 'ios': 812,\n",
              " 'aa': 813,\n",
              " 'accessible': 814,\n",
              " 'purchase': 815,\n",
              " 'cluster': 816,\n",
              " 'wise': 817,\n",
              " 'db': 818,\n",
              " 'africa': 819,\n",
              " 'correspond': 820,\n",
              " 'root': 821,\n",
              " 'freezing': 822,\n",
              " 'logistic': 823,\n",
              " 'hex': 824,\n",
              " 'upload': 825,\n",
              " 'action': 826,\n",
              " 'ahead': 827,\n",
              " 'ec': 828,\n",
              " 'recreate': 829,\n",
              " 'sponsor': 830,\n",
              " 'pane': 831,\n",
              " 'hrs': 832,\n",
              " 'effect': 833,\n",
              " 'switch': 834,\n",
              " 'reminder': 835,\n",
              " 'possibility': 836,\n",
              " 'skype': 837,\n",
              " 'reporting': 838,\n",
              " 'scroll': 839,\n",
              " 'login': 840,\n",
              " 'reason': 841,\n",
              " 'proxy': 842,\n",
              " 'ribbon': 843,\n",
              " 'line': 844,\n",
              " 'privilege': 845,\n",
              " 'impact': 846,\n",
              " 'cost': 847,\n",
              " 'slowness': 848,\n",
              " 'disconnected': 849,\n",
              " 'presently': 850,\n",
              " 'tomorrow': 851,\n",
              " 'sub': 852,\n",
              " 'slow': 853,\n",
              " 'contribute': 854,\n",
              " 'hub': 855,\n",
              " 'notebook': 856,\n",
              " 'section': 857,\n",
              " 'expense': 858,\n",
              " 'lock': 859,\n",
              " 'available': 860,\n",
              " 'first': 861,\n",
              " 'hour': 862,\n",
              " 'static': 863,\n",
              " 'invite': 864,\n",
              " 'flight': 865,\n",
              " 'medium': 866,\n",
              " 'eu': 867,\n",
              " 'understand': 868,\n",
              " 'pi': 869,\n",
              " 'trial': 870,\n",
              " 'ph': 871,\n",
              " 'junk': 872,\n",
              " 'ability': 873,\n",
              " 'depute': 874,\n",
              " 'expiry': 875,\n",
              " 'troubleshoot': 876,\n",
              " 'info': 877,\n",
              " 'lan': 878,\n",
              " 'vice': 879,\n",
              " 'also': 880,\n",
              " 'mount': 881,\n",
              " 'eastern': 882,\n",
              " 'dear': 883,\n",
              " 'night': 884,\n",
              " 'impossible': 885,\n",
              " 'graphic': 886,\n",
              " 'annoying': 887,\n",
              " 'inbound': 888,\n",
              " 'enough': 889,\n",
              " 'forward': 890,\n",
              " 'setting': 891,\n",
              " 'disabled': 892,\n",
              " 'extension': 893,\n",
              " 'assign': 894,\n",
              " 'word': 895,\n",
              " 'guard': 896,\n",
              " 'three': 897,\n",
              " 'dell': 898,\n",
              " 'prompting': 899,\n",
              " 'standard': 900,\n",
              " 'wrench': 901,\n",
              " 'price': 902,\n",
              " 'campus': 903,\n",
              " 'turn': 904,\n",
              " 'malaysia': 905,\n",
              " 'command': 906,\n",
              " 'yes': 907,\n",
              " 'closed': 908,\n",
              " 'fast': 909,\n",
              " 'ex': 910,\n",
              " 'specifically': 911,\n",
              " 'germany': 912,\n",
              " 'functionality': 913,\n",
              " 'outbreak': 914,\n",
              " 'oss': 915,\n",
              " 'office': 916,\n",
              " 'trust': 917,\n",
              " 'consultant': 918,\n",
              " 'subsystem': 919,\n",
              " 'person': 920,\n",
              " 'il': 921,\n",
              " 'router': 922,\n",
              " 'cold': 923,\n",
              " 'clearly': 924,\n",
              " 'still': 925,\n",
              " 'menu': 926,\n",
              " 'node': 927,\n",
              " 'database': 928,\n",
              " 'logged': 929,\n",
              " 'constantly': 930,\n",
              " 'li': 931,\n",
              " 'detailed': 932,\n",
              " 'advance': 933,\n",
              " 'gmt': 934,\n",
              " 'help': 935,\n",
              " 'automatically': 936,\n",
              " 'overview': 937,\n",
              " 'sit': 938,\n",
              " 'cursor': 939,\n",
              " 'delegation': 940,\n",
              " 'newly': 941,\n",
              " 'sw': 942,\n",
              " 'history': 943,\n",
              " 'output': 944,\n",
              " 'probable': 945,\n",
              " 'monitor': 946,\n",
              " 'general': 947,\n",
              " 'mailing': 948,\n",
              " 'internet': 949,\n",
              " 'renew': 950,\n",
              " 'article': 951,\n",
              " 'miss': 952,\n",
              " 'ctc': 953,\n",
              " 'news': 954,\n",
              " 'staff': 955,\n",
              " 'requirement': 956,\n",
              " 'effective': 957,\n",
              " 'practice': 958,\n",
              " 'opening': 959,\n",
              " 'upgraded': 960,\n",
              " 'indonesia': 961,\n",
              " 'non': 962,\n",
              " 'asset': 963,\n",
              " 'set': 964,\n",
              " 'failure': 965,\n",
              " 'reject': 966,\n",
              " 'technology': 967,\n",
              " 'terminate': 968,\n",
              " 'loading': 969,\n",
              " 'xt': 970,\n",
              " 'beyond': 971,\n",
              " 'location': 972,\n",
              " 'phd': 973,\n",
              " 'deny': 974,\n",
              " 'alerting': 975,\n",
              " 'edit': 976,\n",
              " 'language': 977,\n",
              " 'intern': 978,\n",
              " 'library': 979,\n",
              " 'ceo': 980,\n",
              " 'manage': 981,\n",
              " 'mention': 982,\n",
              " 'sometimes': 983,\n",
              " 'browsing': 984,\n",
              " 'manual': 985,\n",
              " 'operate': 986,\n",
              " 'os': 987,\n",
              " 'train': 988,\n",
              " 'recent': 989,\n",
              " 'lose': 990,\n",
              " 'know': 991,\n",
              " 'logging': 992,\n",
              " 'task': 993,\n",
              " 'data': 994,\n",
              " 'suspicious': 995,\n",
              " 'transaction': 996,\n",
              " 'even': 997,\n",
              " 'country': 998,\n",
              " 'lotus': 999,\n",
              " 'explore': 1000,\n",
              " ...}"
            ]
          },
          "metadata": {
            "tags": []
          },
          "execution_count": 43
        }
      ]
    },
    {
      "cell_type": "code",
      "metadata": {
        "id": "32hbtj15CcxG"
      },
      "source": [
        "def process_input(x):\n",
        "  final_value = []\n",
        "  split_x = x.split(' ')\n",
        "  for word in split_x:\n",
        "    value = word_dict[word]\n",
        "    final_value.append(value)\n",
        "  return final_value"
      ],
      "execution_count": 44,
      "outputs": []
    },
    {
      "cell_type": "code",
      "metadata": {
        "id": "mLYhdO6zCg3i"
      },
      "source": [
        "input_text = raw_x_train.apply(process_input)\n",
        "val_text = raw_x_val.apply(process_input)\n",
        "test_text = raw_x_test.apply(process_input)"
      ],
      "execution_count": 45,
      "outputs": []
    },
    {
      "cell_type": "code",
      "metadata": {
        "id": "xcO7anTMCjjM"
      },
      "source": [
        "vocab_size = len(word_dict) + 1"
      ],
      "execution_count": 46,
      "outputs": []
    },
    {
      "cell_type": "markdown",
      "metadata": {
        "id": "PF2NyDQjCmED"
      },
      "source": [
        "<<< END OF THE CODE >>>"
      ]
    },
    {
      "cell_type": "code",
      "metadata": {
        "id": "8-XU22xxCocR"
      },
      "source": [
        "#now use sequence padding to post append zeros inorder to equalize the sentence structure for all the records\n",
        "from tensorflow.keras.preprocessing.sequence import pad_sequences\n",
        "input_final = pad_sequences(maxlen = max_len, sequences = input_text, padding=\"post\")\n",
        "val_final =  pad_sequences(maxlen = max_len, sequences = val_text, padding = \"post\")\n",
        "test_final = pad_sequences(maxlen = max_len, sequences = test_text, padding = \"post\")"
      ],
      "execution_count": 47,
      "outputs": []
    },
    {
      "cell_type": "markdown",
      "metadata": {
        "id": "VRmflnaCCuXl"
      },
      "source": [
        "When the input is heavily imbalanced. \n",
        "\n",
        "=> We have to use class weights, which increase the loss value inversely proportional to the frequency of the class.\n",
        "\n",
        "=> Using bias_intializer will make the model converge faster. This is done by taking log(corresponding class/ total - corresponding class)\n",
        "\n",
        "=> Applying weighted metrics in the model evaluation(train, validation and test)\n",
        "\n"
      ]
    },
    {
      "cell_type": "code",
      "metadata": {
        "id": "FJbg4GQcCxL4"
      },
      "source": [
        "#calculating initial bias\n",
        "total_count = raw_x_train.shape[0]\n",
        "\n",
        "groups = pd.DataFrame(np.argmax(raw_y_train, axis=1), columns = ['Assignment group'])\n",
        "group_count = groups['Assignment group'].value_counts().reset_index()\n",
        "group_count.sort_values('index', inplace=True)"
      ],
      "execution_count": 48,
      "outputs": []
    },
    {
      "cell_type": "code",
      "metadata": {
        "id": "PuNUbcFo8q8N",
        "outputId": "27e943fb-2e33-4b74-dc45-bdeb6bae46e9",
        "colab": {
          "base_uri": "https://localhost:8080/",
          "height": 233
        }
      },
      "source": [
        "group_count"
      ],
      "execution_count": 49,
      "outputs": [
        {
          "output_type": "execute_result",
          "data": {
            "text/html": [
              "<div>\n",
              "<style scoped>\n",
              "    .dataframe tbody tr th:only-of-type {\n",
              "        vertical-align: middle;\n",
              "    }\n",
              "\n",
              "    .dataframe tbody tr th {\n",
              "        vertical-align: top;\n",
              "    }\n",
              "\n",
              "    .dataframe thead th {\n",
              "        text-align: right;\n",
              "    }\n",
              "</style>\n",
              "<table border=\"1\" class=\"dataframe\">\n",
              "  <thead>\n",
              "    <tr style=\"text-align: right;\">\n",
              "      <th></th>\n",
              "      <th>index</th>\n",
              "      <th>Assignment group</th>\n",
              "    </tr>\n",
              "  </thead>\n",
              "  <tbody>\n",
              "    <tr>\n",
              "      <th>0</th>\n",
              "      <td>0</td>\n",
              "      <td>2978</td>\n",
              "    </tr>\n",
              "    <tr>\n",
              "      <th>4</th>\n",
              "      <td>1</td>\n",
              "      <td>183</td>\n",
              "    </tr>\n",
              "    <tr>\n",
              "      <th>5</th>\n",
              "      <td>2</td>\n",
              "      <td>168</td>\n",
              "    </tr>\n",
              "    <tr>\n",
              "      <th>3</th>\n",
              "      <td>3</td>\n",
              "      <td>191</td>\n",
              "    </tr>\n",
              "    <tr>\n",
              "      <th>1</th>\n",
              "      <td>4</td>\n",
              "      <td>531</td>\n",
              "    </tr>\n",
              "    <tr>\n",
              "      <th>2</th>\n",
              "      <td>5</td>\n",
              "      <td>201</td>\n",
              "    </tr>\n",
              "  </tbody>\n",
              "</table>\n",
              "</div>"
            ],
            "text/plain": [
              "   index  Assignment group\n",
              "0      0              2978\n",
              "4      1               183\n",
              "5      2               168\n",
              "3      3               191\n",
              "1      4               531\n",
              "2      5               201"
            ]
          },
          "metadata": {
            "tags": []
          },
          "execution_count": 49
        }
      ]
    },
    {
      "cell_type": "code",
      "metadata": {
        "id": "pVgTw9bKC0ad"
      },
      "source": [
        "group_count['denominator'] = total_count - group_count['Assignment group'] \n",
        "group_count['initial bias'] = np.log(group_count['Assignment group'] / group_count['denominator'])\n",
        "initial_bias = np.array(group_count['initial bias'])"
      ],
      "execution_count": 50,
      "outputs": []
    },
    {
      "cell_type": "code",
      "metadata": {
        "id": "htyqA_0MC3A0",
        "outputId": "bf13a3f7-6fda-48b7-e20e-a54985038720",
        "colab": {
          "base_uri": "https://localhost:8080/",
          "height": 52
        }
      },
      "source": [
        "initial_bias"
      ],
      "execution_count": 51,
      "outputs": [
        {
          "output_type": "execute_result",
          "data": {
            "text/plain": [
              "array([ 0.84909038, -3.1016664 , -3.1908682 , -3.0569111 , -1.94698571,\n",
              "       -3.00341414])"
            ]
          },
          "metadata": {
            "tags": []
          },
          "execution_count": 51
        }
      ]
    },
    {
      "cell_type": "code",
      "metadata": {
        "id": "-r90VuFzDHDf"
      },
      "source": [
        "import numpy as np\n",
        "from tensorflow import keras\n",
        "from sklearn.utils.class_weight import compute_class_weight\n",
        "\n",
        "y_integers = np.argmax(raw_y_train, axis=1)\n",
        "class_weights = compute_class_weight('balanced', np.unique(y_integers), y_integers)\n",
        "d_class_weights = dict(enumerate(class_weights))\n",
        "\n",
        "y_integers = np.argmax(raw_y_val, axis=1)\n",
        "class_weights = compute_class_weight('balanced', np.unique(y_integers), y_integers)\n",
        "d_class_vweights = dict(enumerate(class_weights))\n",
        "\n",
        "y_integers = np.argmax(raw_y_test, axis=1)\n",
        "class_weights = compute_class_weight('balanced', np.unique(y_integers), y_integers)\n",
        "d_class_tweights = dict(enumerate(class_weights))"
      ],
      "execution_count": 52,
      "outputs": []
    },
    {
      "cell_type": "code",
      "metadata": {
        "id": "HA4n4Wq1DXsN",
        "outputId": "a0c53dbc-d353-4532-ad54-5a3d15efab63",
        "colab": {
          "base_uri": "https://localhost:8080/",
          "height": 121
        }
      },
      "source": [
        "d_class_weights"
      ],
      "execution_count": 53,
      "outputs": [
        {
          "output_type": "execute_result",
          "data": {
            "text/plain": [
              "{0: 0.23796731587194986,\n",
              " 1: 3.8724954462659382,\n",
              " 2: 4.218253968253968,\n",
              " 3: 3.7102966841186737,\n",
              " 4: 1.3345888261142498,\n",
              " 5: 3.525704809286899}"
            ]
          },
          "metadata": {
            "tags": []
          },
          "execution_count": 53
        }
      ]
    },
    {
      "cell_type": "code",
      "metadata": {
        "id": "spjM9FOrDaID"
      },
      "source": [
        "from tensorflow.keras.metrics import Precision, Recall, AUC, CategoricalAccuracy\n",
        "\n",
        "METRICS = [      \n",
        "      Precision(name='precision'),\n",
        "      Recall(name='recall'),\n",
        "      AUC(name='auc'),\n",
        "      CategoricalAccuracy(name='accuracy')\n",
        "]"
      ],
      "execution_count": 54,
      "outputs": []
    },
    {
      "cell_type": "code",
      "metadata": {
        "id": "sZVCH6EJDj3g"
      },
      "source": [
        "from tensorflow.keras.models import Sequential\n",
        "from tensorflow.keras.layers import Embedding, LSTM, Bidirectional, Flatten, Dense\n",
        "import tensorflow as tf\n",
        "from tensorflow.keras.callbacks import ModelCheckpoint, ReduceLROnPlateau\n",
        "\n",
        "model = Sequential()          #Defining a sequential layer\n",
        "model.add(Embedding(input_dim = vocab_size, output_dim = 300, input_length = max_len ))\n",
        "model.add(Bidirectional(LSTM(units=100, dropout=0.2))) #LSTM return sequences\n",
        "model.add(Flatten())\n",
        "\n",
        "#!!!! IMPORTANT !!!!\n",
        "#can test with both giving initial bias and without giving initial bias\n",
        "\n",
        "model.add(Dense(6, activation='softmax', bias_initializer = tf.keras.initializers.Constant(initial_bias)))\n",
        "# model.add(Dense(44, activation='softmax'))\n"
      ],
      "execution_count": 135,
      "outputs": []
    },
    {
      "cell_type": "code",
      "metadata": {
        "id": "HIhnRLPbDl7e",
        "outputId": "68a4e8da-62cf-4074-efe1-0c96cdad68c6",
        "colab": {
          "base_uri": "https://localhost:8080/",
          "height": 295
        }
      },
      "source": [
        "model.summary()"
      ],
      "execution_count": 136,
      "outputs": [
        {
          "output_type": "stream",
          "text": [
            "Model: \"sequential_18\"\n",
            "_________________________________________________________________\n",
            "Layer (type)                 Output Shape              Param #   \n",
            "=================================================================\n",
            "embedding_18 (Embedding)     (None, 214, 300)          518700    \n",
            "_________________________________________________________________\n",
            "bidirectional_17 (Bidirectio (None, 200)               320800    \n",
            "_________________________________________________________________\n",
            "flatten_14 (Flatten)         (None, 200)               0         \n",
            "_________________________________________________________________\n",
            "dense_15 (Dense)             (None, 6)                 1206      \n",
            "=================================================================\n",
            "Total params: 840,706\n",
            "Trainable params: 840,706\n",
            "Non-trainable params: 0\n",
            "_________________________________________________________________\n"
          ],
          "name": "stdout"
        }
      ]
    },
    {
      "cell_type": "code",
      "metadata": {
        "id": "M30QvS2CDrpp"
      },
      "source": [
        "model.compile(optimizer=\"Adam\", loss=\"categorical_crossentropy\", weighted_metrics=[METRICS])"
      ],
      "execution_count": 137,
      "outputs": []
    },
    {
      "cell_type": "markdown",
      "metadata": {
        "id": "_Z5tUaa7DxdV"
      },
      "source": [
        "###For validation and test we need to add samplewise weights "
      ]
    },
    {
      "cell_type": "code",
      "metadata": {
        "id": "vut8zpKIDtCc"
      },
      "source": [
        "#training dataset\n",
        "y_train_trans = np.argmax(raw_y_train, axis=1)\n",
        "\n",
        "train_weight = []\n",
        "#calculate class weight for each sample in validation data\n",
        "for i in y_train_trans:\n",
        "  train_weight.append(d_class_weights[i])\n",
        "\n",
        "train_weights = np.array(train_weight)\n",
        "\n",
        "##validation dataset\n",
        "y_val_trans = np.argmax(raw_y_val, axis=1)\n",
        "\n",
        "val_weight = []\n",
        "#calculate class weight for each sample in validation data\n",
        "for i in y_val_trans:\n",
        "  val_weight.append(d_class_vweights[i])\n",
        "\n",
        "val_weights = np.array(val_weight)\n",
        "\n",
        "#test dataset\n",
        "y_test_trans = np.argmax(raw_y_test, axis=1)\n",
        "\n",
        "test_weight = []\n",
        "#calculate class weight for each sample in validation data\n",
        "for i in y_test_trans:\n",
        "  test_weight.append(d_class_tweights[i])\n",
        "\n",
        "test_weights = np.array(test_weight)"
      ],
      "execution_count": 138,
      "outputs": []
    },
    {
      "cell_type": "code",
      "metadata": {
        "id": "rECI52lSgN4R"
      },
      "source": [
        "checkpoint = ModelCheckpoint('model-{epoch:03d}-{val_accuracy:03f}.h5', verbose=1, monitor='val_accuracy',save_best_only=True, mode='auto') \n",
        "reduceLoss = ReduceLROnPlateau(monitor='val_loss', factor=0.2,patience=2, min_lr=0.0001)"
      ],
      "execution_count": 139,
      "outputs": []
    },
    {
      "cell_type": "code",
      "metadata": {
        "id": "1QBeSfwAEZW7",
        "outputId": "cdcd1878-9707-465e-8111-97390bd58d94",
        "colab": {
          "base_uri": "https://localhost:8080/",
          "height": 592
        }
      },
      "source": [
        "history = model.fit(input_final, raw_y_train, batch_size=32, class_weight = d_class_weights, epochs=8,callbacks=[checkpoint,reduceLoss],validation_data =(val_final, raw_y_val, val_weights), verbose=1)"
      ],
      "execution_count": 140,
      "outputs": [
        {
          "output_type": "stream",
          "text": [
            "Epoch 1/8\n",
            "133/133 [==============================] - ETA: 0s - loss: 1.4267 - precision: 0.6025 - recall: 0.2027 - auc: 0.8022 - accuracy: 0.4652\n",
            "Epoch 00001: val_accuracy improved from -inf to 0.60643, saving model to model-001-0.606431.h5\n",
            "133/133 [==============================] - 6s 44ms/step - loss: 1.4267 - precision: 0.6025 - recall: 0.2027 - auc: 0.8022 - accuracy: 0.4652 - val_loss: 1.0434 - val_precision: 0.7147 - val_recall: 0.4829 - val_auc: 0.8907 - val_accuracy: 0.6064\n",
            "Epoch 2/8\n",
            "133/133 [==============================] - ETA: 0s - loss: 0.7541 - precision: 0.7526 - recall: 0.5998 - auc: 0.9424 - accuracy: 0.6960\n",
            "Epoch 00002: val_accuracy improved from 0.60643 to 0.61117, saving model to model-002-0.611171.h5\n",
            "133/133 [==============================] - 5s 35ms/step - loss: 0.7541 - precision: 0.7526 - recall: 0.5998 - auc: 0.9424 - accuracy: 0.6960 - val_loss: 0.9662 - val_precision: 0.6534 - val_recall: 0.5329 - val_auc: 0.9044 - val_accuracy: 0.6112\n",
            "Epoch 3/8\n",
            "133/133 [==============================] - ETA: 0s - loss: 0.5370 - precision: 0.8058 - recall: 0.7201 - auc: 0.9694 - accuracy: 0.7726\n",
            "Epoch 00003: val_accuracy improved from 0.61117 to 0.69532, saving model to model-003-0.695323.h5\n",
            "133/133 [==============================] - 5s 36ms/step - loss: 0.5370 - precision: 0.8058 - recall: 0.7201 - auc: 0.9694 - accuracy: 0.7726 - val_loss: 0.9157 - val_precision: 0.7170 - val_recall: 0.6425 - val_auc: 0.9220 - val_accuracy: 0.6953\n",
            "Epoch 4/8\n",
            "133/133 [==============================] - ETA: 0s - loss: 0.4381 - precision: 0.8202 - recall: 0.7777 - auc: 0.9789 - accuracy: 0.8021\n",
            "Epoch 00004: val_accuracy did not improve from 0.69532\n",
            "133/133 [==============================] - 5s 36ms/step - loss: 0.4381 - precision: 0.8202 - recall: 0.7777 - auc: 0.9789 - accuracy: 0.8021 - val_loss: 1.0009 - val_precision: 0.6933 - val_recall: 0.6193 - val_auc: 0.9114 - val_accuracy: 0.6785\n",
            "Epoch 5/8\n",
            "133/133 [==============================] - ETA: 0s - loss: 0.3680 - precision: 0.8497 - recall: 0.8150 - auc: 0.9849 - accuracy: 0.8352\n",
            "Epoch 00005: val_accuracy did not improve from 0.69532\n",
            "133/133 [==============================] - 5s 36ms/step - loss: 0.3680 - precision: 0.8497 - recall: 0.8150 - auc: 0.9849 - accuracy: 0.8352 - val_loss: 1.0878 - val_precision: 0.6734 - val_recall: 0.6351 - val_auc: 0.9016 - val_accuracy: 0.6642\n",
            "Epoch 6/8\n",
            "133/133 [==============================] - ETA: 0s - loss: 0.3010 - precision: 0.8727 - recall: 0.8538 - auc: 0.9895 - accuracy: 0.8643\n",
            "Epoch 00006: val_accuracy did not improve from 0.69532\n",
            "133/133 [==============================] - 5s 36ms/step - loss: 0.3010 - precision: 0.8727 - recall: 0.8538 - auc: 0.9895 - accuracy: 0.8643 - val_loss: 1.1383 - val_precision: 0.6850 - val_recall: 0.6411 - val_auc: 0.8977 - val_accuracy: 0.6544\n",
            "Epoch 7/8\n",
            "133/133 [==============================] - ETA: 0s - loss: 0.2881 - precision: 0.8781 - recall: 0.8615 - auc: 0.9903 - accuracy: 0.8715\n",
            "Epoch 00007: val_accuracy did not improve from 0.69532\n",
            "133/133 [==============================] - 5s 36ms/step - loss: 0.2881 - precision: 0.8781 - recall: 0.8615 - auc: 0.9903 - accuracy: 0.8715 - val_loss: 1.1964 - val_precision: 0.6705 - val_recall: 0.6235 - val_auc: 0.8927 - val_accuracy: 0.6412\n",
            "Epoch 8/8\n",
            "133/133 [==============================] - ETA: 0s - loss: 0.2787 - precision: 0.8811 - recall: 0.8706 - auc: 0.9908 - accuracy: 0.8779\n",
            "Epoch 00008: val_accuracy did not improve from 0.69532\n",
            "133/133 [==============================] - 5s 35ms/step - loss: 0.2787 - precision: 0.8811 - recall: 0.8706 - auc: 0.9908 - accuracy: 0.8779 - val_loss: 1.2097 - val_precision: 0.6611 - val_recall: 0.6231 - val_auc: 0.8918 - val_accuracy: 0.6337\n"
          ],
          "name": "stdout"
        }
      ]
    },
    {
      "cell_type": "code",
      "metadata": {
        "id": "7QGjjq4CQifq"
      },
      "source": [
        "model.load_weights('model-003-0.695323.h5')"
      ],
      "execution_count": 141,
      "outputs": []
    },
    {
      "cell_type": "code",
      "metadata": {
        "id": "kEDUnJa9WPe4"
      },
      "source": [
        "# import matplotlib.pyplot as plt\n",
        "# import matplotlib as mpl\n",
        "\n",
        "# mpl.rcParams['figure.figsize'] = (10, 7)\n",
        "# colors = plt.rcParams['axes.prop_cycle'].by_key()['color']\n",
        "\n",
        "# def plot_metrics(history):\n",
        "#   metrics =  ['loss', 'auc', 'precision', 'recall']\n",
        "#   for n, metric in enumerate(metrics):\n",
        "#     name = metric.replace(\"_\",\" \").capitalize()\n",
        "#     plt.subplot(2,2,n+1)\n",
        "#     plt.plot(history.epoch,  history.history[metric], color=colors[0], label='Train')\n",
        "#     plt.plot(history.epoch, history.history['val_'+metric],\n",
        "#              color=colors[0], linestyle=\"--\", label='Val')\n",
        "#     plt.xlabel('Epoch')\n",
        "#     plt.ylabel(name)\n",
        "#     if metric == 'loss':\n",
        "#       plt.ylim([0, plt.ylim()[1]])\n",
        "#     elif metric == 'auc':\n",
        "#       plt.ylim([0.8,1])\n",
        "#     else:\n",
        "#       plt.ylim([0,1])\n",
        "\n",
        "#     plt.legend()\n",
        "\n",
        "\n",
        "# plot_metrics(history)"
      ],
      "execution_count": 142,
      "outputs": []
    },
    {
      "cell_type": "code",
      "metadata": {
        "id": "hL1vJqP_QX_r"
      },
      "source": [
        "from sklearn.metrics import f1_score"
      ],
      "execution_count": 143,
      "outputs": []
    },
    {
      "cell_type": "code",
      "metadata": {
        "id": "IWm5JdPMIXk_",
        "outputId": "22266c97-f660-486f-e38c-a0f7471419a1",
        "colab": {
          "base_uri": "https://localhost:8080/",
          "height": 89
        }
      },
      "source": [
        "def update_accuracy_df(prec, recall, auc, accur, f1, model_name, dataset_name):\n",
        "  accuracy_df.loc[model_name, dataset_name + '_Precision'] = prec * 100\n",
        "  accuracy_df.loc[model_name, dataset_name + '_Recall'] = recall * 100\n",
        "  accuracy_df.loc[model_name, dataset_name + '_Auc'] = auc * 100\n",
        "  accuracy_df.loc[model_name, dataset_name + '_Accuracy'] = accur * 100\n",
        "  if dataset_name != 'Train':\n",
        "    accuracy_df.loc[model_name, dataset_name + '_F1'] = f1 * 100\n",
        "\n",
        "Train_WPrecision, Train_WRecall, Train_WAuc, Train_WAccuracy = model.evaluate(input_final, raw_y_train, sample_weight = train_weights)[1:]\n",
        "update_accuracy_df(Train_WPrecision, Train_WRecall, Train_WAuc, Train_WAccuracy, ' ', 'LSTM', 'Train' )\n",
        "\n",
        "Val_WPrecision, Val_WRecall, Val_WAuc, Val_WAccuracy = model.evaluate(val_final, raw_y_val, sample_weight = val_weights)[1:]\n",
        "predict_val = model.predict(val_final)\n",
        "Val_WF1 = f1_score(np.argmax(raw_y_val, axis=1), np.argmax(predict_val, axis=1), average='weighted')\n",
        "update_accuracy_df(Val_WPrecision, Val_WRecall, Val_WAuc, Val_WAccuracy, Val_WF1, 'LSTM', 'Val' )\n",
        "\n",
        "Test_WPrecision, Test_WRecall, Test_WAuc, Test_WAccuracy = model.evaluate(test_final, raw_y_test, sample_weight = test_weights)[1:]\n",
        "predict_test = model.predict(test_final)\n",
        "Test_WF1 = f1_score(np.argmax(raw_y_test, axis=1), np.argmax(predict_test, axis=1), average='weighted')\n",
        "update_accuracy_df(Test_WPrecision, Test_WRecall, Test_WAuc, Test_WAccuracy, Test_WF1, 'LSTM', 'Test' )"
      ],
      "execution_count": 144,
      "outputs": [
        {
          "output_type": "stream",
          "text": [
            "133/133 [==============================] - 2s 15ms/step - loss: 0.4216 - precision: 0.8454 - recall: 0.8055 - auc: 0.9814 - accuracy: 0.8333\n",
            "17/17 [==============================] - 0s 14ms/step - loss: 0.9157 - precision: 0.7170 - recall: 0.6425 - auc: 0.9220 - accuracy: 0.6953\n",
            "15/15 [==============================] - 0s 15ms/step - loss: 0.7363 - precision: 0.7427 - recall: 0.6620 - auc: 0.9448 - accuracy: 0.7147\n"
          ],
          "name": "stdout"
        }
      ]
    },
    {
      "cell_type": "markdown",
      "metadata": {
        "id": "8FAoTBGwTD4s"
      },
      "source": [
        "Repeating the same procedure for balanced dataset where class_weights are not required"
      ]
    },
    {
      "cell_type": "code",
      "metadata": {
        "id": "aIiLlSjig-q9",
        "outputId": "bdcf8625-3929-47bc-ed41-e12c915f6005",
        "colab": {
          "base_uri": "https://localhost:8080/",
          "height": 295
        }
      },
      "source": [
        "from tensorflow.keras.models import Sequential\n",
        "from tensorflow.keras.layers import Embedding, LSTM, Bidirectional, Flatten, Dense\n",
        "import tensorflow as tf\n",
        "from tensorflow.keras.callbacks import ModelCheckpoint, ReduceLROnPlateau\n",
        "\n",
        "model = Sequential()          #Defining a sequential layer\n",
        "model.add(Embedding(input_dim = vocab_size, output_dim = 300, input_length = max_len ))\n",
        "model.add(Bidirectional(LSTM(units=100, dropout=0.2))) #LSTM return sequences\n",
        "model.add(Flatten())\n",
        "\n",
        "#!!!! IMPORTANT !!!!\n",
        "#can test with both giving initial bias and without giving initial bias\n",
        "\n",
        "# model.add(Dense(44, activation='softmax', bias_initializer = tf.keras.initializers.Constant(initial_bias)))\n",
        "model.add(Dense(6, activation='softmax'))\n",
        "\n",
        "model.summary()"
      ],
      "execution_count": 145,
      "outputs": [
        {
          "output_type": "stream",
          "text": [
            "Model: \"sequential_19\"\n",
            "_________________________________________________________________\n",
            "Layer (type)                 Output Shape              Param #   \n",
            "=================================================================\n",
            "embedding_19 (Embedding)     (None, 214, 300)          518700    \n",
            "_________________________________________________________________\n",
            "bidirectional_18 (Bidirectio (None, 200)               320800    \n",
            "_________________________________________________________________\n",
            "flatten_15 (Flatten)         (None, 200)               0         \n",
            "_________________________________________________________________\n",
            "dense_16 (Dense)             (None, 6)                 1206      \n",
            "=================================================================\n",
            "Total params: 840,706\n",
            "Trainable params: 840,706\n",
            "Non-trainable params: 0\n",
            "_________________________________________________________________\n"
          ],
          "name": "stdout"
        }
      ]
    },
    {
      "cell_type": "code",
      "metadata": {
        "id": "HO40-6j7QBJ2",
        "outputId": "172cbb4e-0ea7-414d-cbe0-8d12a713e9f2",
        "colab": {
          "base_uri": "https://localhost:8080/",
          "height": 592
        }
      },
      "source": [
        "model.compile(optimizer=\"Adam\", loss=\"categorical_crossentropy\", metrics=[METRICS])\n",
        "\n",
        "checkpoint = ModelCheckpoint('model-{epoch:03d}-{val_accuracy:03f}.h5', verbose=1, monitor='val_accuracy',save_best_only=True, mode='auto') \n",
        "reduceLoss = ReduceLROnPlateau(monitor='val_loss', factor=0.2,patience=2, min_lr=0.0001)\n",
        "\n",
        "history = model.fit(input_final, raw_y_train, batch_size=32,callbacks=[checkpoint,reduceLoss], epochs=8, validation_data =(val_final, raw_y_val), verbose=1)\n",
        "\n",
        "# plot_metrics(history)"
      ],
      "execution_count": 146,
      "outputs": [
        {
          "output_type": "stream",
          "text": [
            "Epoch 1/8\n",
            "133/133 [==============================] - ETA: 0s - loss: 0.7139 - precision: 0.8217 - recall: 0.7200 - auc: 0.9459 - accuracy: 0.7793\n",
            "Epoch 00001: val_accuracy improved from -inf to 0.83080, saving model to model-001-0.830799.h5\n",
            "133/133 [==============================] - 6s 45ms/step - loss: 0.7139 - precision: 0.8217 - recall: 0.7200 - auc: 0.9459 - accuracy: 0.7793 - val_loss: 0.5469 - val_precision: 0.8904 - val_recall: 0.7719 - val_auc: 0.9694 - val_accuracy: 0.8308\n",
            "Epoch 2/8\n",
            "133/133 [==============================] - ETA: 0s - loss: 0.4264 - precision: 0.8946 - recall: 0.8281 - auc: 0.9796 - accuracy: 0.8619\n",
            "Epoch 00002: val_accuracy improved from 0.83080 to 0.84981, saving model to model-002-0.849810.h5\n",
            "133/133 [==============================] - 5s 34ms/step - loss: 0.4264 - precision: 0.8946 - recall: 0.8281 - auc: 0.9796 - accuracy: 0.8619 - val_loss: 0.4820 - val_precision: 0.8796 - val_recall: 0.8194 - val_auc: 0.9732 - val_accuracy: 0.8498\n",
            "Epoch 3/8\n",
            "133/133 [==============================] - ETA: 0s - loss: 0.3310 - precision: 0.9045 - recall: 0.8709 - auc: 0.9872 - accuracy: 0.8871\n",
            "Epoch 00003: val_accuracy did not improve from 0.84981\n",
            "133/133 [==============================] - 5s 34ms/step - loss: 0.3310 - precision: 0.9045 - recall: 0.8709 - auc: 0.9872 - accuracy: 0.8871 - val_loss: 0.4846 - val_precision: 0.8650 - val_recall: 0.8403 - val_auc: 0.9737 - val_accuracy: 0.8479\n",
            "Epoch 4/8\n",
            "133/133 [==============================] - ETA: 0s - loss: 0.2730 - precision: 0.9156 - recall: 0.8906 - auc: 0.9910 - accuracy: 0.9043\n",
            "Epoch 00004: val_accuracy improved from 0.84981 to 0.85551, saving model to model-004-0.855513.h5\n",
            "133/133 [==============================] - 5s 35ms/step - loss: 0.2730 - precision: 0.9156 - recall: 0.8906 - auc: 0.9910 - accuracy: 0.9043 - val_loss: 0.4918 - val_precision: 0.8627 - val_recall: 0.8365 - val_auc: 0.9726 - val_accuracy: 0.8555\n",
            "Epoch 5/8\n",
            "133/133 [==============================] - ETA: 0s - loss: 0.2044 - precision: 0.9336 - recall: 0.9191 - auc: 0.9946 - accuracy: 0.9297\n",
            "Epoch 00005: val_accuracy did not improve from 0.85551\n",
            "133/133 [==============================] - 5s 34ms/step - loss: 0.2044 - precision: 0.9336 - recall: 0.9191 - auc: 0.9946 - accuracy: 0.9297 - val_loss: 0.5101 - val_precision: 0.8611 - val_recall: 0.8365 - val_auc: 0.9716 - val_accuracy: 0.8479\n",
            "Epoch 6/8\n",
            "133/133 [==============================] - ETA: 0s - loss: 0.1872 - precision: 0.9363 - recall: 0.9259 - auc: 0.9954 - accuracy: 0.9316\n",
            "Epoch 00006: val_accuracy did not improve from 0.85551\n",
            "133/133 [==============================] - 5s 34ms/step - loss: 0.1872 - precision: 0.9363 - recall: 0.9259 - auc: 0.9954 - accuracy: 0.9316 - val_loss: 0.5316 - val_precision: 0.8633 - val_recall: 0.8403 - val_auc: 0.9694 - val_accuracy: 0.8460\n",
            "Epoch 7/8\n",
            "133/133 [==============================] - ETA: 0s - loss: 0.1743 - precision: 0.9404 - recall: 0.9320 - auc: 0.9959 - accuracy: 0.9372\n",
            "Epoch 00007: val_accuracy did not improve from 0.85551\n",
            "133/133 [==============================] - 5s 34ms/step - loss: 0.1743 - precision: 0.9404 - recall: 0.9320 - auc: 0.9959 - accuracy: 0.9372 - val_loss: 0.5394 - val_precision: 0.8630 - val_recall: 0.8384 - val_auc: 0.9694 - val_accuracy: 0.8422\n",
            "Epoch 8/8\n",
            "133/133 [==============================] - ETA: 0s - loss: 0.1700 - precision: 0.9410 - recall: 0.9346 - auc: 0.9957 - accuracy: 0.9381\n",
            "Epoch 00008: val_accuracy did not improve from 0.85551\n",
            "133/133 [==============================] - 4s 34ms/step - loss: 0.1700 - precision: 0.9410 - recall: 0.9346 - auc: 0.9957 - accuracy: 0.9381 - val_loss: 0.5501 - val_precision: 0.8513 - val_recall: 0.8270 - val_auc: 0.9689 - val_accuracy: 0.8346\n"
          ],
          "name": "stdout"
        }
      ]
    },
    {
      "cell_type": "code",
      "metadata": {
        "id": "o214o9mYRHHf"
      },
      "source": [
        "model.load_weights('model-004-0.855513.h5')"
      ],
      "execution_count": 147,
      "outputs": []
    },
    {
      "cell_type": "code",
      "metadata": {
        "id": "yatG5oMTYviW",
        "outputId": "b2a67e5b-1144-4c52-bcc0-4e8c9fc7e286",
        "colab": {
          "base_uri": "https://localhost:8080/",
          "height": 89
        }
      },
      "source": [
        "Train_WPrecision, Train_WRecall, Train_WAuc, Train_WAccuracy = model.evaluate(input_final, raw_y_train)[1:]\n",
        "update_accuracy_df(Train_WPrecision, Train_WRecall, Train_WAuc, Train_WAccuracy, ' ', 'Noweight_LSTM', 'Train' )\n",
        "\n",
        "Val_WPrecision, Val_WRecall, Val_WAuc, Val_WAccuracy = model.evaluate(val_final, raw_y_val)[1:]\n",
        "predict_val = model.predict(val_final)\n",
        "Val_WF1 = f1_score(np.argmax(raw_y_val, axis=1), np.argmax(predict_val, axis=1), average='weighted')\n",
        "update_accuracy_df(Val_WPrecision, Val_WRecall, Val_WAuc, Val_WAccuracy, Val_WF1, 'Noweight_LSTM', 'Val' )\n",
        "\n",
        "Test_WPrecision, Test_WRecall, Test_WAuc, Test_WAccuracy = model.evaluate(test_final, raw_y_test)[1:]\n",
        "predict_test = model.predict(test_final)\n",
        "Test_WF1 = f1_score(np.argmax(raw_y_test, axis=1), np.argmax(predict_test, axis=1), average='weighted')\n",
        "update_accuracy_df(Test_WPrecision, Test_WRecall, Test_WAuc, Test_WAccuracy, Test_WF1, 'Noweight_LSTM', 'Test' )"
      ],
      "execution_count": 148,
      "outputs": [
        {
          "output_type": "stream",
          "text": [
            "133/133 [==============================] - 2s 13ms/step - loss: 0.2134 - precision: 0.9320 - recall: 0.9158 - auc: 0.9947 - accuracy: 0.9264\n",
            "17/17 [==============================] - 0s 12ms/step - loss: 0.4918 - precision: 0.8627 - recall: 0.8365 - auc: 0.9726 - accuracy: 0.8555\n",
            "15/15 [==============================] - 0s 13ms/step - loss: 0.4385 - precision: 0.8717 - recall: 0.8478 - auc: 0.9789 - accuracy: 0.8584\n"
          ],
          "name": "stdout"
        }
      ]
    },
    {
      "cell_type": "markdown",
      "metadata": {
        "id": "wrdFNa_AyphK"
      },
      "source": [
        "SVM"
      ]
    },
    {
      "cell_type": "code",
      "metadata": {
        "id": "MDk2oY71ZywV",
        "outputId": "d3abe4fa-325f-45ed-83c2-cfed5f032968",
        "colab": {
          "base_uri": "https://localhost:8080/",
          "height": 35
        }
      },
      "source": [
        "#combining train, validation and text to create a vocabulary\n",
        "combined_data = pd.concat([raw_x_train, raw_x_val])\n",
        "combined_data_final = pd.concat([combined_data, raw_x_test])\n",
        "\n",
        "combined_data_final.shape"
      ],
      "execution_count": 149,
      "outputs": [
        {
          "output_type": "execute_result",
          "data": {
            "text/plain": [
              "(5251,)"
            ]
          },
          "metadata": {
            "tags": []
          },
          "execution_count": 149
        }
      ]
    },
    {
      "cell_type": "code",
      "metadata": {
        "id": "RxwK9-krzmsW"
      },
      "source": [
        "from sklearn.feature_extraction.text import TfidfVectorizer\n",
        "from sklearn import model_selection, naive_bayes, svm\n",
        "from sklearn.metrics import accuracy_score, precision_score, recall_score, f1_score, roc_auc_score"
      ],
      "execution_count": 150,
      "outputs": []
    },
    {
      "cell_type": "code",
      "metadata": {
        "id": "snuolIkAzqUB"
      },
      "source": [
        "Tfidf_vect = TfidfVectorizer(max_features=7000)\n",
        "Tfidf_vect.fit(combined_data_final)\n",
        "\n",
        "Train_X_Tfidf = Tfidf_vect.transform(raw_x_train)\n",
        "Val_X_Tfidf = Tfidf_vect.transform(raw_x_val)\n",
        "Test_X_Tfidf = Tfidf_vect.transform(raw_x_test)"
      ],
      "execution_count": 151,
      "outputs": []
    },
    {
      "cell_type": "code",
      "metadata": {
        "id": "Hzj_KbidzwlW",
        "outputId": "3105d214-5a9e-47b8-b460-f0ad881175da",
        "colab": {
          "base_uri": "https://localhost:8080/",
          "height": 55
        }
      },
      "source": [
        "print(Tfidf_vect.vocabulary_)"
      ],
      "execution_count": 152,
      "outputs": [
        {
          "output_type": "stream",
          "text": [
            "{'call': 205, 'reset': 1275, 'password': 1061, 'user': 1640, 'computer': 281, 'problem': 1153, 'dear': 373, 'not': 990, 'able': 3, 'go': 643, 'internet': 766, 'germany': 638, 'log': 852, 'try': 1595, 'much': 955, 'lock': 849, 'message': 917, 'expire': 547, 'must': 958, 'change': 232, 'forward': 616, 'new': 975, 'vendor': 1654, 'phone': 1088, 'number': 999, 'customer': 351, 'collaboration': 264, 'tool': 1566, 'work': 1705, 'email': 485, 'browser': 185, 'importance': 716, 'high': 679, 'keep': 792, 'disconnect': 425, 'access': 9, 'week': 1688, 'rad': 1198, 'erp': 511, 'business': 191, 'client': 252, 'block': 167, 'issue': 779, 'open': 1017, 'let': 826, 'needful': 968, 'job': 785, 'fail': 563, 'scheduler': 1331, 'windows': 1700, 'account': 12, 'ethic': 519, 'login': 855, 'recognize': 1221, 'skype': 1398, 'sign': 1385, 'say': 1324, 'address': 30, 'type': 1602, 'valid': 1647, 'ess': 516, 'request': 1269, 'misplace': 927, 'ad': 24, 'need': 967, 'status': 1460, 'expect': 542, 'red': 1228, 'wallpaper': 1675, 'nee': 966, 'window': 1699, 'get': 639, 'pron': 1170, 'would': 1713, 'folder': 605, 'location': 848, 'team': 1520, 'nc': 962, 'file': 584, 'warm': 1679, 'expense': 544, 'report': 1266, 'blank': 165, 'screen': 1333, 'pop': 1112, 'click': 251, 'link': 838, 'laptop': 809, 'wifi': 1697, 'corporate': 320, 'center': 223, 'building': 189, 'recently': 1217, 'receive': 1214, 'gb': 631, 'engineering': 499, 'use': 1639, 'currently': 348, 'tech': 1521, 'dock': 440, 'connection': 294, 'company': 274, 'secure': 1342, 'fine': 593, 'two': 1601, 'meeting': 910, 'today': 1561, 'connect': 292, 'network': 973, 'usually': 1642, 'require': 1271, 'assist': 98, 'unable': 1606, 'outage': 1034, 'site': 1395, 'circuit': 244, 'power': 1124, 'specify': 1436, 'top': 1568, 'cert': 226, 'yes': 1722, 'na': 960, 'start': 1451, 'schedule': 1329, 'maintenance': 882, 'no': 980, 'provider': 1176, 'ticket': 1552, 'backup': 134, 'active': 20, 'contact': 301, 'notify': 997, 'remote': 1254, 'dial': 408, 'equipment': 509, 'verified': 1657, 'additional': 29, 'diagnostic': 407, 'comment': 269, 'add': 27, 'update': 1627, 'outlook': 1038, 'load': 844, 'crm': 344, 'lockout': 851, 'unlock': 1619, 'case': 217, 'extend': 554, 'manager': 890, 'doubt': 447, 'return': 1293, 'printer': 1141, 'information': 741, 'complete': 276, 'question': 1190, 'back': 132, 'requester': 1270, 'provide': 1175, 'review': 1297, 'resolve': 1277, 'assign': 96, 'appropriate': 80, 'group': 653, 'assignment': 97, 'flowchart': 604, 'name': 961, 'make': 884, 'model': 936, 'detailed': 402, 'description': 394, 'ask': 93, 'driver': 457, 'install': 750, 'document': 442, 'print': 1140, 'system': 1503, 'application': 74, 'time': 1556, 'respond': 1281, 'ping': 1094, 'command': 268, 'cycle': 355, 'turn': 1599, 'ex': 530, 'output': 1039, 'another': 66, 'temporarily': 1530, 'correctly': 323, 'scan': 1325, 'copy': 317, 'attach': 105, 'charge': 234, 'cable': 199, 'cell': 222, 'utilize': 1645, 'label': 805, 'server': 1358, 'space': 1426, 'consume': 300, 'available': 124, 'usa': 1636, 'appear': 73, 'crash': 336, 'verify': 1658, 'detail': 401, 'employee': 487, 'check': 238, 'unlocked': 1620, 'advise': 38, 'caller': 206, 'confirm': 290, 'management': 889, 'send': 1351, 'across': 16, 'reason': 1209, 'vpn': 1672, 'investigate': 771, 'follow': 607, 'microsoft': 921, 'exchange': 537, 'audio': 111, 'hr': 697, 'put': 1186, 'vacation': 1646, 'show': 1381, 'calendar': 202, 'cancel': 209, 'date': 362, 'supervisor': 1487, 'see': 1344, 'either': 483, 'platform': 1101, 'run': 1313, 'come': 267, 'long': 858, 'option': 1024, 'closed': 255, 'south': 1425, 'hard': 667, 'home': 688, 'someone': 1418, 'disabled': 423, 'day': 364, 'ago': 43, 'reactivate': 1203, 'tell': 1527, 'switzerland': 1498, 'still': 1465, 'director': 420, 'physical': 1090, 'drive': 456, 'supply': 1488, 'directly': 419, 'look': 860, 'detect': 403, 'dell': 384, 'adapter': 25, 'internal': 765, 'device': 406, 'generating': 635, 'form': 612, 'submit': 1475, 'outbound': 1035, 'ip': 777, 'alert': 47, 'traffic': 1576, 'dane': 358, 'external': 557, 'counter': 330, 'threat': 1546, 'unit': 1615, 'due': 460, 'association': 102, 'affected': 40, 'asset': 95, 'indicate': 730, 'host': 690, 'infect': 736, 'escalate': 513, 'incident': 723, 'medium': 908, 'priority': 1146, 'mail': 876, 'notification': 996, 'default': 376, 'event': 525, 'handling': 662, 'procedure': 1154, 'like': 833, 'handle': 661, 'differently': 413, 'future': 629, 'concern': 282, 'know': 802, 'correspond': 325, 'delegate': 379, 'full': 626, 'escalation': 514, 'relate': 1245, 'portal': 1116, 'explicit': 550, 'reporting': 1267, 'purpose': 1184, 'sincerely': 1389, 'datum': 363, 'summary': 1485, 'occurrence': 1005, 'count': 329, 'source': 1424, 'mac': 872, 'db': 366, 'destination': 399, 'net': 971, 'directionality': 418, 'outgoing': 1037, 'processing': 1157, 'sherlock': 1370, 'rule': 1312, 'sle': 1399, 'inspector': 748, 'agent': 42, 'aug': 112, 'build': 188, 'tcp': 1518, 'correlation': 324, 'data': 360, 'relay': 1248, 'lease': 820, 'duration': 462, 'renew': 1257, 'take': 1510, 'action': 17, 'miss': 929, 'sale': 1319, 'tab': 1505, 'enterprise': 506, 'give': 640, 'video': 1661, 'play': 1102, 'training': 1581, 'course': 334, 'sr': 1444, 'presentation': 1131, 'people': 1075, 'post': 1121, 'library': 829, 'fix': 598, 'environment': 508, 'production': 1161, 'pc': 1071, 'helpdesk': 675, 'office': 1008, 'couple': 332, 'hour': 694, 'anymore': 70, 'session': 1361, 'nothing': 994, 'happen': 665, 'dynamics': 465, 'chat': 237, 'live': 843, 'regard': 1235, 'dynamic': 464, 'payslip': 1070, 'tablet': 1507, 'extension': 556, 'month': 944, 'ms': 951, 'node': 982, 'locate': 847, 'error': 512, 'seem': 1346, 'appreciate': 78, 'authorization': 118, 'wait': 1674, 'approval': 81, 'united': 1616, 'kingdom': 798, 'tabs': 1508, 'security': 1343, 'trigger': 1589, 'failure': 565, 'service': 1359, 'extra': 558, 'true': 1593, 'null': 998, 'empty': 489, 'find': 592, 'echo': 474, 'hub': 701, 'printers': 1142, 'area': 87, 'up': 1625, 'choose': 241, 'info': 739, 'zebra': 1725, 'attachment': 106, 'role': 1303, 'also': 53, 'er': 510, 'router': 1310, 'primary': 1139, 'ie': 707, 'chrome': 242, 'hence': 676, 'instal': 749, 'well': 1692, 'bi': 157, 'bw': 195, 'related': 1246, 'set': 1362, 'mobile': 933, 'broadband': 182, 'right': 1299, 'global': 641, 'want': 1676, 'approve': 82, 'unauthorized': 1607, 'attempt': 107, 'continuously': 306, 'past': 1063, 'license': 831, 'query': 1189, 'arrange': 89, 'de': 370, 'payroll': 1069, 'purchase': 1182, 'contract': 307, 'purchasing': 1183, 'bill': 159, 'key': 793, 'entry': 507, 'enclose': 492, 'shot': 1380, 'professional': 1162, 'activate': 18, 'suggest': 1483, 'do': 438, 'activation': 19, 'automatically': 121, 'ftp': 625, 'exist': 540, 'java': 783, 'ver': 1655, 'explore': 551, 'possible': 1120, 'loop': 862, 'welcome': 1691, 'eu': 521, 'restart': 1284, 'plant': 1100, 'partner': 1058, 'intermittent': 762, 'frequently': 622, 'india': 729, 'intranet': 769, 'affect': 39, 'carrier': 215, 'enable': 491, 'directory': 421, 'lan': 806, 'last': 812, 'three': 1547, 'monitor': 942, 'endpoint': 497, 'encryption': 495, 'page': 1051, 'lean': 819, 'tracker': 1575, 'impossible': 718, 'absolutely': 5, 'present': 1130, 'reach': 1201, 'german': 637, 'freezing': 619, 'following': 608, 'organization': 1028, 'perform': 1076, 'first': 597, 'consider': 297, 'validate': 1648, 'authentic': 114, 'continue': 305, 'determine': 404, 'azure': 130, 'users': 1641, 'inc': 722, 'reply': 1265, 'abended': 1, 'manger': 891, 'successful': 1479, 'sky': 1397, 'language': 807, 'explorer': 552, 'telephone': 1525, 'urgent': 1633, 'urgently': 1634, 'proceed': 1155, 'price': 1137, 'discount': 428, 'manage': 888, 'memory': 913, 'reboot': 1211, 'monthly': 945, 'around': 88, 'stage': 1447, 'setup': 1364, 'hire': 682, 'input': 744, 'material': 902, 'terminate': 1533, 'authorisation': 117, 'regular': 1239, 'enough': 502, 'clean': 247, 'support': 1489, 'probably': 1151, 'recent': 1216, 'colleague': 265, 'soon': 1421, 'kiosk': 799, 'non': 984, 'operate': 1019, 'view': 1662, 'format': 613, 'zone': 1727, 'frequent': 621, 'longer': 859, 'many': 896, 'packet': 1049, 'drop': 458, 'experience': 545, 'fiber': 581, 'restoration': 1287, 'forget': 610, 'attendance': 109, 'personal': 1084, 'certificate': 227, 'trail': 1577, 'salary': 1318, 'slip': 1400, 'rectify': 1227, 'malaysia': 885, 'refer': 1231, 'face': 560, 'msg': 953, 'basis': 142, 'weekend': 1689, 'night': 979, 'shift': 1371, 'excel': 533, 'save': 1321, 'person': 1083, 'search': 1338, 'subject': 1473, 'become': 149, 'difficult': 414, 'retrieve': 1292, 'reference': 1232, 'plus': 1105, 'book': 171, 'sync': 1500, 'permission': 1081, 'ic': 702, 'next': 978, 'shortly': 1379, 'interaction': 759, 'website': 1687, 'visitor': 1670, 'join': 786, 'conversation': 311, 'help': 674, 'vip': 1665, 'configure': 288, 'earliest': 468, 'background': 133, 'export': 553, 'gui': 656, 'upgrade': 1628, 'allow': 49, 'however': 695, 'hang': 664, 'occur': 1004, 'already': 52, 'totally': 1571, 'correct': 321, 'success': 1478, 'termination': 1534, 'effective': 481, 'average': 125, 'sample': 1320, 'disk': 430, 'free': 617, 'warning': 1681, 'threshold': 1548, 'total': 1570, 'size': 1396, 'passwords': 1062, 'enter': 505, 'rest': 1283, 'include': 724, 'workstation': 1711, 'ok': 1011, 'suggestion': 1484, 'slow': 1401, 'impact': 714, 'least': 821, 'operation': 1020, 'distribution': 433, 'services': 1360, 'asia': 92, 'own': 1043, 'mobility': 934, 'agreement': 44, 'sir': 1393, 'damage': 357, 'lit': 841, 'minute': 926, 'response': 1282, 'cooperation': 315, 'somebody': 1417, 'kind': 797, 'move': 948, 'approver': 83, 'every': 528, 'infection': 738, 'sinkhole': 1392, 'domain': 444, 'anubis': 69, 'cookie': 314, 'probable': 1150, 'infected': 737, 'port': 1114, 'lisbon': 839, 'incoming': 725, 'protocol': 1174, 'http': 700, 'code': 262, 'utc': 1643, 'cvss': 354, 'score': 1332, 'version': 1659, 'ontology': 1016, 'classification': 246, 'none': 985, 'accept': 8, 'flag': 599, 'sensor': 1354, 'sport': 1441, 'pro': 1149, 'ee': 479, 'win': 1698, 'ascii': 91, 'fe': 576, 'mon': 941, 'sep': 1355, 'gmt': 642, 'content': 304, 'text': 1537, 'html': 699, 'close': 254, 'hex': 677, 'te': 1519, 'xt': 1719, 'ac': 6, 'recall': 1212, 'order': 1026, 'yet': 1724, 'authorize': 119, 'recognition': 1220, 'hardware': 668, 'component': 279, 'critical': 343, 'state': 1453, 'chassis': 236, 'loud': 868, 'noise': 983, 'wireless': 1701, 'download': 449, 'old': 1013, 'africa': 41, 'sa': 1316, 'reinstall': 1242, 'dongle': 445, 'setting': 1363, 'mention': 914, 'corrupt': 326, 'cluster': 257, 'stack': 1445, 'misplaced': 928, 'line': 837, 'edit': 476, 'weekly': 1690, 'activity': 21, 'engineer': 498, 'general': 633, 'answer': 67, 'reassign': 1210, 'mam': 887, 'prompting': 1169, 'light': 832, 'blink': 166, 'front': 624, 'panel': 1053, 'tess': 1536, 'transaction': 1582, 'describe': 393, 'recreate': 1226, 'condition': 283, 'result': 1290, 'create': 338, 'low': 869, 'prod': 1158, 'master': 900, 'figure': 583, 'revenue': 1295, 'addition': 28, 'value': 1651, 'nobody': 981, 'different': 412, 'immediately': 713, 'madam': 875, 'target': 1513, 'display': 431, 'docking': 441, 'station': 1457, 'earlier': 467, 'discuss': 429, 'aware': 127, 'together': 1562, 'persist': 1082, 'leave': 822, 'assistance': 99, 'list': 840, 'draw': 452, 'administrator': 33, 'inquiry': 745, 'understand': 1611, 'news': 977, 'regional': 1237, 'write': 1715, 'switch': 1497, 'depute': 391, 'repair': 1260, 'shop': 1376, 'floor': 603, 'assistant': 100, 'manufacturing': 895, 'manually': 893, 'prompt': 1168, 'cost': 327, 'creation': 339, 'buy': 194, 'trial': 1588, 'validity': 1650, 'secondary': 1340, 'yesterday': 1723, 'dp': 450, 'guard': 654, 'involve': 774, 'carve': 216, 'project': 1164, 'local': 846, 'exception': 536, 'necessary': 965, 'mr': 950, 'share': 1367, 'launch': 815, 'sound': 1423, 'early': 469, 'incorrect': 726, 'accordingly': 11, 'box': 175, 'tomorrow': 1564, 'campus': 207, 'thought': 1545, 'trouble': 1591, 'important': 717, 'select': 1348, 'direct': 416, 'senior': 1353, 'explain': 549, 'third': 1543, 'guest': 655, 'distributor': 434, 'efficiency': 482, 'note': 992, 'column': 266, 'far': 570, 'pull': 1181, 'plan': 1097, 'bad': 135, 'working': 1709, 'interface': 761, 'core': 319, 'latitude': 814, 'multiple': 956, 'refresh': 1234, 'telephony': 1526, 'software': 1412, 'picture': 1093, 'idea': 704, 'bit': 161, 'tag': 1509, 'branch': 177, 'requirement': 1272, 'module': 938, 'respect': 1280, 'installation': 751, 'word': 1704, 'surge': 1492, 'original': 1029, 'side': 1384, 'deployment': 390, 'deploy': 389, 'successfully': 1480, 'patch': 1064, 'sw': 1495, 'base': 141, 'os': 1030, 'english': 500, 'hebrew': 673, 'israel': 778, 'raise': 1199, 'pack': 1047, 'package': 1048, 'poland': 1108, 'inform': 740, 'reschedule': 1274, 'fill': 585, 'recovery': 1225, 'oct': 1006, 'th': 1538, 'overview': 1042, 'firewall': 596, 'european': 523, 'destine': 400, 'one': 1014, 'toll': 1563, 'dialing': 409, 'hp': 696, 'jet': 784, 'clear': 248, 'queue': 1191, 'utilization': 1644, 'member': 911, 'observe': 1003, 'suspicious': 1494, 'ds': 459, 'archive': 85, 'inwarehouse': 775, 'administration': 31, 'analysis': 59, 'boot': 172, 'blue': 169, 'briefly': 180, 'encounter': 494, 'drawing': 453, 'adobe': 34, 'product': 1160, 'online': 1015, 'solve': 1415, 'boss': 173, 'automatic': 120, 'behalf': 151, 'upload': 1631, 'educate': 478, 'step': 1463, 'award': 126, 'remember': 1252, 'battery': 144, 'fast': 571, 'replace': 1263, 'flicker': 601, 'often': 1009, 'junk': 790, 'spam': 1428, 'process': 1156, 'repeat': 1261, 'projector': 1166, 'notebook': 993, 'patching': 1065, 'desktop': 398, 'sept': 1357, 'bottom': 174, 'static': 1456, 'wrong': 1716, 'credential': 340, 'intelligence': 757, 'object': 1001, 'launcher': 816, 'register': 1238, 'dialog': 410, 'way': 1683, 'balancing': 138, 'outside': 1040, 'bob': 170, 'quota': 1196, 'cold': 263, 'russia': 1315, 'volume': 1671, 'import': 715, 'catalog': 218, 'match': 901, 'current': 347, 'okay': 1012, 'normal': 987, 'printing': 1143, 'snip': 1409, 'away': 129, 'delete': 381, 'tax': 1515, 'cpu': 335, 'mit': 931, 'snapshot': 1408, 'virtual': 1666, 'private': 1147, 'hrs': 698, 'inside': 747, 'factory': 562, 'pe': 1072, 'byte': 196, 'statistic': 1458, 'lose': 863, 'loss': 864, 'hope': 689, 'preparedness': 1129, 'actual': 22, 'scenario': 1328, 'highlight': 680, 'second': 1339, 'expiry': 548, 'connections': 295, 'scroll': 1335, 'symbol': 1499, 'nearly': 964, 'extended': 555, 'cube': 346, 'mouse': 947, 'replacement': 1264, 'europe': 522, 'pay': 1068, 'weaver': 1684, 'end': 496, 'licence': 830, 'un': 1605, 'great': 647, 'think': 1542, 'sometimes': 1419, 'logging': 854, 'convert': 313, 'release': 1249, 'opening': 1018, 'self': 1350, 'mine': 925, 'rep': 1259, 'personnel': 1085, 'sort': 1422, 'indonesia': 733, 'head': 669, 'precision': 1127, 'reminder': 1253, 'trust': 1594, 'statement': 1454, 'controller': 310, 'needs': 969, 'configuring': 289, 'tone': 1565, 'pick': 1092, 'warehouse': 1678, 'single': 1391, 'generate': 634, 'outbreak': 1036, 'within': 1703, 'several': 1365, 'reconnaissance': 1222, 'scanning': 1327, 'upgraded': 1629, 'executive': 539, 'mileage': 923, 'delivery': 383, 'flash': 600, 'player': 1103, 'table': 1506, 'ware': 1677, 'portion': 1117, 'control': 309, 'web': 1685, 'tc': 1517, 'sure': 1491, 'transfer': 1583, 'remove': 1256, 'temp': 1528, 'ts': 1596, 'gain': 630, 'roll': 1304, 'specifically': 1435, 'ring': 1300, 'coordinator': 316, 'path': 1067, 'cc': 221, 'department': 387, 'daily': 356, 'url': 1635, 'machine': 873, 'solid': 1413, 'viewer': 1663, 'wrench': 1714, 'comp': 273, 'icon': 703, 'benefit': 155, 'conduct': 284, 'record': 1223, 'ensure': 504, 'train': 1578, 'synchronize': 1502, 'finance': 590, 'bring': 181, 'restarting': 1286, 'freeze': 618, 'speaker': 1431, 'busy': 192, 'later': 813, 'unavailable': 1608, 'technology': 1524, 'configuration': 287, 'disconnected': 426, 'powder': 1123, 'apprentice': 79, 'employment': 488, 'field': 582, 'template': 1529, 'consultant': 299, 'intern': 764, 'sponsor': 1440, 'operator': 1022, 'systems': 1504, 'planner': 1098, 'mexico': 919, 'instance': 752, 'stop': 1467, 'unchecked': 1610, 'limit': 834, 'safe': 1317, 'mode': 935, 'reduce': 1229, 'task': 1514, 'selection': 1349, 'timecard': 1557, 'clock': 253, 'italy': 781, 'ship': 1372, 'printout': 1144, 'country': 331, 'separate': 1356, 'execute': 538, 'profile': 1163, 'joiner': 787, 'example': 531, 'disconnection': 427, 'est': 517, 'communication': 272, 'resource': 1279, 'remotely': 1255, 'mistake': 930, 'min': 924, 'delay': 378, 'co': 258, 'instead': 753, 'desk': 397, 'shoot': 1375, 'till': 1555, 'recover': 1224, 'card': 213, 'analyst': 60, 'authenticate': 115, 'soap': 1410, 'fault': 572, 'year': 1720, 'connected': 293, 'ctc': 345, 'folk': 606, 'prior': 1145, 'level': 827, 'facility': 561, 'virus': 1667, 'quick': 1193, 'white': 1694, 'chance': 231, 'read': 1204, 'even': 524, 'stay': 1461, 'enhance': 501, 'indirect': 731, 'modify': 937, 'otc': 1032, 'billing': 160, 'requisition': 1273, 'regularly': 1240, 'pr': 1125, 'down': 448, 'easy': 471, 'article': 90, 'contribute': 308, 'ahead': 45, 'image': 710, 'feedback': 578, 'visit': 1669, 'expert': 546, 'therefore': 1540, 'twice': 1600, 'hear': 672, 'may': 904, 'place': 1096, 'populate': 1113, 'msc': 952, 'communicate': 271, 'pass': 1060, 'kb': 791, 'patent': 1066, 'connectivity': 296, 'begin': 150, 'applications': 75, 'except': 535, 'browsing': 186, 'technical': 1522, 'north': 989, 'performance': 1077, 'grind': 651, 'vulnerability': 1673, 'scanner': 1326, 'inbound': 721, 'ability': 2, 'proxy': 1177, 'tor': 1569, 'unique': 1614, 'wi': 1696, 'lotus': 867, 'room': 1306, 'restore': 1288, 'macro': 874, 'netscape': 972, 'shipment': 1373, 'owner': 1044, 'delegation': 380, 'associate': 101, 'store': 1469, 'synchronization': 1501, 'invite': 773, 'unread': 1622, 'confirmation': 291, 'difficulty': 415, 'point': 1107, 'universal': 1617, 'reimbursement': 1241, 'amount': 58, 'completion': 277, 'category': 219, 'documentation': 443, 'monitoring': 943, 'sms': 1405, 'talk': 1511, 'position': 1118, 'sd': 1336, 'compliance': 278, 'deny': 386, 'neither': 970, 'industrial': 735, 'segment': 1347, 'roanoke': 1301, 'robot': 1302, 'inactive': 720, 'km': 800, 'deactivate': 371, 'apply': 76, 'sit': 1394, 'spin': 1439, 'quality': 1187, 'part': 1056, 'graphic': 646, 'unresolved': 1623, 'authentication': 116, 'root': 1307, 'database': 361, 'automation': 122, 'press': 1134, 'trojan': 1590, 'barcelona': 140, 'li': 828, 'ti': 1551, 'dj': 436, 'hn': 685, 'dd': 369, 'eb': 472, 'dc': 368, 'cf': 229, 'aa': 0, 'ed': 475, 'ba': 131, 'ca': 198, 'bd': 148, 'bb': 146, 'bc': 147, 'big': 158, 'nv': 1000, 'divestiture': 435, 'improperly': 719, 'similar': 1388, 'trainer': 1580, 'unfortunately': 1612, 'period': 1078, 'remain': 1251, 'identify': 705, 'organisation': 1027, 'oss': 1031, 'final': 588, 'batch': 143, 'stand': 1448, 'chain': 230, 'typing': 1603, 'treat': 1587, 'property': 1173, 'custom': 350, 'der': 392, 'bay': 145, 'die': 411, 'den': 385, 'oder': 1007, 'sind': 1390, 'disclaimer': 424, 'alternate': 55, 'unblock': 1609, 'mi': 920, 'though': 1544, 'insurance': 756, 'function': 627, 'draft': 451, 'plug': 1104, 'otherwise': 1033, 'ref': 1230, 'privilege': 1148, 'paralegal': 1055, 'favorite': 574, 'tooling': 1567, 'title': 1558, 'reflect': 1233, 'ticketing': 1553, 'faq': 569, 'section': 1341, 'quarantine': 1188, 'conference': 285, 'grinding': 652, 'mb': 905, 'loading': 845, 'bytes': 197, 'round': 1308, 'maximum': 903, 'shared': 1368, 'pivot': 1095, 'analyzer': 62, 'quote': 1197, 'resolving': 1278, 'adaptor': 26, 'faulty': 573, 'courage': 333, 'sub': 1472, 'guy': 658, 'mapping': 898, 'crashing': 337, 'counsel': 328, 'balance': 137, 'effect': 480, 'region': 1236, 'designer': 396, 'awareness': 128, 'feature': 577, 'administrative': 32, 'finally': 589, 'stick': 1464, 'thing': 1541, 'filter': 587, 'reopen': 1258, 'hit': 684, 'spreadsheet': 1443, 'infrastructure': 742, 'startup': 1452, 'chart': 235, 'channel': 233, 'fan': 568, 'forgot': 611, 'initial': 743, 'pa': 1045, 'knock': 801, 'analyze': 61, 'emails': 486, 'tender': 1532, 'coat': 260, 'wise': 1702, 'coating': 261, 'distance': 432, 'alarm': 46, 'studio': 1471, 'warn': 1680, 'never': 974, 'exit': 541, 'drill': 455, 'carbide': 212, 'mailbox': 877, 'instruction': 754, 'reader': 1205, 'bag': 136, 'adopter': 35, 'former': 614, 'travel': 1586, 'policy': 1109, 'sheet': 1369, 'design': 395, 'manufacture': 894, 'lost': 865, 'reinstate': 1243, 'workflow': 1708, 'music': 957, 'good': 644, 'receipt': 1213, 'variable': 1652, 'usas': 1638, 'annoying': 64, 'header': 670, 'choice': 240, 'lowercase': 870, 'ph': 1086, 'throw': 1549, 'workman': 1710, 'reachable': 1202, 'repeatedly': 1262, 'attend': 108, 'feel': 579, 'receiving': 1215, 'hibernation': 678, 'imaging': 711, 'cause': 220, 'issues': 780, 'common': 270, 'visible': 1668, 'archived': 86, 'territory': 1535, 'west': 1693, 'coast': 259, 'length': 824, 'bar': 139, 'worker': 1707, 'notice': 995, 'br': 176, 'presently': 1132, 'speak': 1430, 'incredibly': 727, 'kick': 795, 'soft': 1411, 'sn': 1406, 'tape': 1512, 'eject': 484, 'properly': 1172, 'really': 1208, 'lookup': 861, 'upper': 1632, 'shortcut': 1378, 'google': 645, 'ribbon': 1298, 'specialist': 1433, 'stuck': 1470, 'village': 1664, 'locked': 850, 'webpage': 1686, 'alt': 54, 'cursor': 349, 'button': 193, 'poor': 1111, 'subsystem': 1477, 'interruption': 768, 'severity': 1366, 'interrupt': 767, 'anyway': 71, 'touch': 1572, 'ec': 473, 'encoding': 493, 'zip': 1726, 'headset': 671, 'android': 63, 'oh': 1010, 'capture': 211, 'less': 825, 'expedite': 543, 'meet': 909, 'produce': 1159, 'proper': 1171, 'credit': 341, 'suppose': 1490, 'nd': 963, 'along': 51, 'previously': 1136, 'compatibility': 275, 'guide': 657, 'technician': 1523, 'solution': 1414, 'running': 1314, 'lead': 817, 'thumb': 1550, 'unsuccessful': 1624, 'somewhere': 1420, 'insert': 746, 'canada': 208, 'rev': 1294, 'break': 178, 'shutdown': 1383, 'disable': 422, 'operational': 1021, 'excellence': 534, 'finished': 595, 'revert': 1296, 'conversion': 312, 'realize': 1207, 'especially': 515, 'practice': 1126, 'apologize': 72, 'lot': 866, 'lap': 808, 'ethical': 520, 'moment': 939, 'periodic': 1079, 'decommission': 374, 'ron': 1305, 'resolution': 1276, 'validation': 1649, 'development': 405, 'party': 1059, 'suspect': 1493, 'shut': 1382, 'almost': 50, 'smart': 1404, 'ear': 466, 'individual': 732, 'immediate': 712, 'pricing': 1138, 'behavior': 152, 'migration': 922, 'ps': 1178, 'scheduled': 1330, 'holder': 687, 'grey': 650, 'track': 1574, 'item': 782, 'cache': 200, 'editor': 477, 'storage': 1468, 'capacity': 210, 'sufficient': 1482, 'previous': 1135, 'cad': 201, 'taxis': 1516, 'extract': 559, 'unlocking': 1621, 'pi': 1091, 'suddenly': 1481, 'steel': 1462, 'alerting': 48, 'greeting': 649, 'planning': 1099, 'financial': 591, 'signal': 1386, 'push': 1185, 'mp': 949, 'submission': 1474, 'map': 897, 'signature': 1387, 'dmz': 437, 'compromise': 280, 'meantime': 906, 'portable': 1115, 'pen': 1074, 'limited': 836, 'genius': 636, 'sender': 1352, 'seek': 1345, 'defender': 377, 'contain': 303, 'method': 918, 'ar': 84, 'constantly': 298, 'opportunity': 1023, 'world': 1712, 'hotspot': 693, 'copying': 318, 'confidential': 286, 'invitation': 772, 'hotel': 692, 'special': 1432, 'script': 1334, 'invalid': 770, 'speed': 1437, 'doc': 439, 'usage': 1637, 'statistics': 1459, 'queuing': 1192, 'abort': 4, 'publish': 1180, 'slowness': 1402, 'pm': 1106, 'whole': 1695, 'reject': 1244, 'happening': 666, 'paper': 1054, 'workbook': 1706, 'broken': 183, 'anti': 68, 'staff': 1446, 'acc': 7, 'shipping': 1374, 'quite': 1195, 'dot': 446, 'temporary': 1531, 'advice': 37, 'greatly': 648, 'snap': 1407, 'major': 883, 'mailing': 878, 'peer': 1073, 'handset': 663, 'loin': 857, 'familiar': 567, 'normally': 988, 'belong': 154, 'relevant': 1250, 'mass': 899, 'momentarily': 940, 'spare': 1429, 'failing': 564, 'indexing': 728, 'junior': 789, 'duplicate': 461, 'laser': 811, 'short': 1377, 'ever': 527, 'hold': 686, 'logistic': 856, 'restarted': 1285, 'mount': 946, 'mss': 954, 'pacific': 1046, 'mails': 879, 'contacted': 302, 'specific': 1434, 'actually': 23, 'route': 1309, 'kt': 804, 'upcoming': 1626, 'pad': 1050, 'keypad': 794, 'troubleshoot': 1592, 'advance': 36, 'always': 56, 'stock': 1466, 'main': 880, 'transportation': 1585, 'exceed': 532, 'depend': 388, 'particular': 1057, 'possibility': 1119, 'subscribe': 1476, 'dedicate': 375, 'savin': 1323, 'bk': 163, 'potential': 1122, 'ios': 776, 'font': 609, 'small': 1403, 'little': 842, 'correction': 322, 'browse': 184, 'clarification': 245, 'friend': 623, 'memo': 912, 'wy': 1717, 'manual': 892, 'swap': 1496, 'probe': 1152, 'insufficient': 755, 'mess': 916, 'history': 683, 'ceo': 225, 'lunch': 871, 'standby': 1450, 'hall': 659, 'ready': 1206, 'thanking': 1539, 'saver': 1322, 'calibration': 204, 'oracle': 1025, 'tier': 1554, 'kicked': 796, 'verification': 1656, 'legitimate': 823, 'certify': 228, 'centre': 224, 'unknown': 1618, 'closing': 256, 'enquiry': 503, 'amend': 57, 'restriction': 1289, 'spell': 1438, 'accountant': 13, 'accounting': 14, 'president': 1133, 'accessible': 10, 'dvd': 463, 'beyond': 156, 'photo': 1089, 'believe': 153, 'ids': 706, 'various': 1653, 'fence': 580, 'uplink': 1630, 'menu': 915, 'assurance': 104, 'appointment': 77, 'deletion': 382, 'hand': 660, 'solver': 1416, 'summit': 1486, 'assume': 103, 'tn': 1560, 'tm': 1559, 'juarez': 788, 'mx': 959, 'large': 810, 'rather': 1200, 'polska': 1110, 'eastern': 470, 'intermittently': 763, 'overall': 1041, 'bunch': 190, 'fax': 575, 'public': 1179, 'direction': 417, 'spread': 1442, 'intend': 758, 'recipient': 1218, 'dba': 367, 'mm': 932, 'finish': 594, 'malicious': 886, 'transition': 1584, 'standard': 1449, 'vice': 1660, 'carlos': 214, 'relationship': 1247, 'retrieval': 1291, 'preferably': 1128, 'cid': 243, 'freight': 620, 'watch': 1682, 'filler': 586, 'dealer': 372, 'blade': 164, 'functionality': 628, 'bucket': 187, 'promotion': 1167, 'calendars': 203, 'indra': 734, 'australia': 113, 'spain': 1427, 'establish': 518, 'states': 1455, 'interactive': 760, 'measure': 907, 'acquire': 15, 'anonymous': 65, 'blocker': 168, 'dash': 359, 'logged': 853, 'uk': 1604, 'se': 1337, 'hot': 691, 'quickly': 1194, 'en': 490, 'assembly': 94, 'noon': 986, 'row': 1311, 'availability': 123, 'clearly': 250, 'phd': 1087, 'cut': 352, 'days': 365, 'trace': 1573, 'newly': 976, 'crime': 342, 'hinge': 681, 'projection': 1165, 'fall': 566, 'flight': 602, 'il': 709, 'maintain': 881, 'limitation': 835, 'everyday': 529, 'unfreeze': 1613, 'formerly': 615, 'leadership': 818, 'bridge': 179, 'representative': 1268, 'chief': 239, 'observation': 1002, 'permanent': 1080, 'turkey': 1598, 'recode': 1219, 'gen': 632, 'knowledge': 803, 'eventually': 526, 'tss': 1597, 'xss': 1718, 'yellow': 1721, 'ii': 708, 'attention': 110, 'pane': 1052, 'bite': 162, 'trainee': 1579, 'notch': 991, 'clearance': 249, 'cutter': 353, 'drawings': 454}\n"
          ],
          "name": "stdout"
        }
      ]
    },
    {
      "cell_type": "code",
      "metadata": {
        "id": "I6sSxQqMzyJX",
        "outputId": "310596f7-30e5-4033-e34f-938d2e9a1762",
        "colab": {
          "base_uri": "https://localhost:8080/",
          "height": 901
        }
      },
      "source": [
        "print(Train_X_Tfidf)"
      ],
      "execution_count": 153,
      "outputs": [
        {
          "output_type": "stream",
          "text": [
            "  (0, 1640)\t0.4789835996486904\n",
            "  (0, 1275)\t0.43320059604353695\n",
            "  (0, 1061)\t0.403486512155157\n",
            "  (0, 205)\t0.6481593857717204\n",
            "  (1, 1595)\t0.17575507669189713\n",
            "  (1, 1153)\t0.1958293545252801\n",
            "  (1, 1061)\t0.23880879369757899\n",
            "  (1, 990)\t0.21177901790722292\n",
            "  (1, 975)\t0.1893253669186749\n",
            "  (1, 958)\t0.2862992930907054\n",
            "  (1, 955)\t0.3294707405366598\n",
            "  (1, 917)\t0.17792633057439886\n",
            "  (1, 852)\t0.17664655267837107\n",
            "  (1, 849)\t0.16058198241696794\n",
            "  (1, 766)\t0.18813424327854092\n",
            "  (1, 643)\t0.21810249875146984\n",
            "  (1, 638)\t0.2395659741178729\n",
            "  (1, 616)\t0.28863689229788975\n",
            "  (1, 547)\t0.24714093228990805\n",
            "  (1, 373)\t0.20282285268481742\n",
            "  (1, 281)\t0.20625600896716523\n",
            "  (1, 232)\t0.17811228808066296\n",
            "  (1, 3)\t0.3372280174373562\n",
            "  (2, 1654)\t0.485953354288012\n",
            "  (2, 1640)\t0.35572301701046494\n",
            "  :\t:\n",
            "  (4247, 276)\t0.16614040054204307\n",
            "  (4247, 232)\t0.12545828342677484\n",
            "  (4247, 12)\t0.09792353256598829\n",
            "  (4248, 1705)\t0.3089910622968385\n",
            "  (4248, 1038)\t0.34219020391329397\n",
            "  (4248, 1017)\t0.3886858382256509\n",
            "  (4248, 990)\t0.46788275247778716\n",
            "  (4248, 779)\t0.30069398068040654\n",
            "  (4248, 485)\t0.3434008547818495\n",
            "  (4248, 344)\t0.4572728067365793\n",
            "  (4249, 1709)\t0.4123960951930349\n",
            "  (4249, 1705)\t0.16765828438360134\n",
            "  (4249, 990)\t0.1269363893408408\n",
            "  (4249, 970)\t0.40294663003032355\n",
            "  (4249, 809)\t0.24682542681528824\n",
            "  (4249, 111)\t0.3020928939905134\n",
            "  (4249, 70)\t0.6864098038586628\n",
            "  (4250, 1575)\t0.6456344046368838\n",
            "  (4250, 1017)\t0.39353144153393715\n",
            "  (4250, 990)\t0.23685783728574583\n",
            "  (4250, 819)\t0.6100717867511307\n",
            "  (4251, 512)\t0.3742635944017479\n",
            "  (4251, 361)\t0.7157533431731506\n",
            "  (4251, 105)\t0.4772623863346226\n",
            "  (4251, 9)\t0.3461856846146637\n"
          ],
          "name": "stdout"
        }
      ]
    },
    {
      "cell_type": "code",
      "metadata": {
        "id": "jOq9GrdOzzh_"
      },
      "source": [
        "train_y = np.argmax(raw_y_train, axis=1)\n",
        "val_y = np.argmax(raw_y_val, axis=1)\n",
        "test_y = np.argmax(raw_y_test, axis=1)"
      ],
      "execution_count": 154,
      "outputs": []
    },
    {
      "cell_type": "code",
      "metadata": {
        "id": "_aqqA8aFz1_6"
      },
      "source": [
        "# Classifier - Algorithm - SVM\n",
        "# fit the training dataset on the classifier\n",
        "\n",
        "SVM = svm.SVC(C=1.0, kernel='linear', degree=3, gamma='auto', class_weight='balanced', random_state=100)\n",
        "SVM.fit(Train_X_Tfidf,train_y)\n",
        "\n",
        "# predict the labels on validation dataset\n",
        "\n",
        "train_pred_SVM = SVM.predict(Train_X_Tfidf)\n",
        "val_pred_SVM = SVM.predict(Val_X_Tfidf)\n",
        "test_pred_SVM = SVM.predict(Test_X_Tfidf)\n",
        "\n",
        "# # Use accuracy_score function to get the accuracy\n",
        "# print(\"SVM Accuracy Score -> \", f1_score(predictions_SVM, val_y, average='weighted')*100)"
      ],
      "execution_count": 155,
      "outputs": []
    },
    {
      "cell_type": "code",
      "metadata": {
        "id": "e1t59SGSbXxu"
      },
      "source": [
        "\n",
        "Train_WPrecision = precision_score(train_pred_SVM, train_y, average='weighted',sample_weight = train_weights)\n",
        "Train_WRecall = recall_score(train_pred_SVM, train_y, average='weighted',sample_weight = train_weights)\n",
        "# Train_WAuc = roc_auc_score(train_pred_SVM, train_y, average='weighted' )\n",
        "Train_WAuc = 1\n",
        "Train_WAccuracy = accuracy_score(train_pred_SVM, train_y,sample_weight = train_weights)\n",
        "Train_WF1 = f1_score(train_pred_SVM, train_y, average='weighted',sample_weight = train_weights)\n",
        "\n",
        "Val_WPrecision = precision_score(val_pred_SVM, val_y, average='weighted',sample_weight = val_weights)\n",
        "Val_WRecall = recall_score(val_pred_SVM, val_y, average='weighted',sample_weight = val_weights)\n",
        "# Val_WAuc = roc_auc_score(val_pred_SVM, val_y, average='weighted')\n",
        "Val_WAuc = 1\n",
        "Val_WAccuracy = accuracy_score(val_pred_SVM, val_y,sample_weight = val_weights)\n",
        "Val_WF1 = f1_score(val_pred_SVM, val_y, average='weighted',sample_weight = val_weights)\n",
        "\n",
        "Test_WPrecision = precision_score(test_pred_SVM, test_y, average='weighted',sample_weight = test_weights)\n",
        "Test_WRecall = recall_score(test_pred_SVM, test_y, average='weighted',sample_weight = test_weights)\n",
        "# Test_WAuc = roc_auc_score(test_pred_SVM, test_y, average='weighted')\n",
        "Test_WAuc = 1\n",
        "Test_WAccuracy = accuracy_score(test_pred_SVM, test_y,sample_weight = test_weights)\n",
        "Test_WF1 = f1_score(test_pred_SVM, test_y, average='weighted',sample_weight = test_weights)\n",
        "\n",
        "update_accuracy_df(Train_WPrecision, Train_WRecall, Train_WAuc, Train_WAccuracy, Train_WF1, 'SVM', 'Train' )\n",
        "update_accuracy_df(Val_WPrecision, Val_WRecall, Val_WAuc, Val_WAccuracy, Val_WF1, 'SVM', 'Val' )\n",
        "update_accuracy_df(Test_WPrecision, Test_WRecall, Test_WAuc, Test_WAccuracy, Test_WF1, 'SVM', 'Test' )\n"
      ],
      "execution_count": 156,
      "outputs": []
    },
    {
      "cell_type": "code",
      "metadata": {
        "id": "PWwHoSDlSozl"
      },
      "source": [
        "# Classifier - Algorithm - SVM\n",
        "# fit the training dataset on the classifier\n",
        "\n",
        "SVM = svm.SVC(C=1.0, kernel='linear', degree=3, gamma='auto', random_state = 50)\n",
        "SVM.fit(Train_X_Tfidf,train_y)\n",
        "\n",
        "# predict the labels on validation dataset\n",
        "\n",
        "train_pred_SVM = SVM.predict(Train_X_Tfidf)\n",
        "val_pred_SVM = SVM.predict(Val_X_Tfidf)\n",
        "test_pred_SVM = SVM.predict(Test_X_Tfidf)\n",
        "\n",
        "# # Use accuracy_score function to get the accuracy\n",
        "# print(\"SVM Accuracy Score -> \", f1_score(predictions_SVM, val_y, average='weighted')*100)"
      ],
      "execution_count": 157,
      "outputs": []
    },
    {
      "cell_type": "code",
      "metadata": {
        "id": "_bB2u0Uyz-f9"
      },
      "source": [
        "Train_WPrecision = precision_score(train_pred_SVM, train_y, average='weighted')\n",
        "Train_WRecall = recall_score(train_pred_SVM, train_y, average='weighted')\n",
        "# Train_WAuc = roc_auc_score(train_pred_SVM, train_y, average='weighted' )\n",
        "Train_WAuc = 1\n",
        "Train_WAccuracy = accuracy_score(train_pred_SVM, train_y)\n",
        "Train_WF1 = f1_score(train_pred_SVM, train_y, average='weighted')\n",
        "\n",
        "Val_WPrecision = precision_score(val_pred_SVM, val_y, average='weighted')\n",
        "Val_WRecall = recall_score(val_pred_SVM, val_y, average='weighted')\n",
        "# Val_WAuc = roc_auc_score(val_pred_SVM, val_y, average='weighted')\n",
        "Val_WAuc = 1\n",
        "Val_WAccuracy = accuracy_score(val_pred_SVM, val_y)\n",
        "Val_WF1 = f1_score(val_pred_SVM, val_y, average='weighted')\n",
        "\n",
        "Test_WPrecision = precision_score(test_pred_SVM, test_y, average='weighted')\n",
        "Test_WRecall = recall_score(test_pred_SVM, test_y, average='weighted')\n",
        "# Test_WAuc = roc_auc_score(test_pred_SVM, test_y, average='weighted')\n",
        "Test_WAuc = 1\n",
        "Test_WAccuracy = accuracy_score(test_pred_SVM, test_y)\n",
        "Test_WF1 = f1_score(test_pred_SVM, test_y, average='weighted')\n",
        "\n",
        "update_accuracy_df(Train_WPrecision, Train_WRecall, Train_WAuc, Train_WAccuracy, Train_WF1, 'Noweight_SVM', 'Train' )\n",
        "update_accuracy_df(Val_WPrecision, Val_WRecall, Val_WAuc, Val_WAccuracy, Val_WF1, 'Noweight_SVM', 'Val' )\n",
        "update_accuracy_df(Test_WPrecision, Test_WRecall, Test_WAuc, Test_WAccuracy, Test_WF1, 'Noweight_SVM', 'Test' )"
      ],
      "execution_count": 158,
      "outputs": []
    },
    {
      "cell_type": "code",
      "metadata": {
        "id": "eSaEIalCSW23",
        "outputId": "39a16819-18d8-44b3-8ad1-7462611954a3",
        "colab": {
          "base_uri": "https://localhost:8080/",
          "height": 191
        }
      },
      "source": [
        "accuracy_df"
      ],
      "execution_count": 159,
      "outputs": [
        {
          "output_type": "execute_result",
          "data": {
            "text/html": [
              "<div>\n",
              "<style scoped>\n",
              "    .dataframe tbody tr th:only-of-type {\n",
              "        vertical-align: middle;\n",
              "    }\n",
              "\n",
              "    .dataframe tbody tr th {\n",
              "        vertical-align: top;\n",
              "    }\n",
              "\n",
              "    .dataframe thead th {\n",
              "        text-align: right;\n",
              "    }\n",
              "</style>\n",
              "<table border=\"1\" class=\"dataframe\">\n",
              "  <thead>\n",
              "    <tr style=\"text-align: right;\">\n",
              "      <th></th>\n",
              "      <th>Train_Precision</th>\n",
              "      <th>Train_Recall</th>\n",
              "      <th>Train_Auc</th>\n",
              "      <th>Train_Accuracy</th>\n",
              "      <th>Val_Precision</th>\n",
              "      <th>Val_Recall</th>\n",
              "      <th>Val_F1</th>\n",
              "      <th>Val_Auc</th>\n",
              "      <th>Val_Accuracy</th>\n",
              "      <th>Test_Precision</th>\n",
              "      <th>Test_Recall</th>\n",
              "      <th>Test_F1</th>\n",
              "      <th>Test_Auc</th>\n",
              "      <th>Test_Accuracy</th>\n",
              "    </tr>\n",
              "  </thead>\n",
              "  <tbody>\n",
              "    <tr>\n",
              "      <th>LSTM</th>\n",
              "      <td>84.5375</td>\n",
              "      <td>80.5474</td>\n",
              "      <td>98.1361</td>\n",
              "      <td>83.3313</td>\n",
              "      <td>71.6984</td>\n",
              "      <td>64.2457</td>\n",
              "      <td>77.1129</td>\n",
              "      <td>92.1959</td>\n",
              "      <td>69.5323</td>\n",
              "      <td>74.2737</td>\n",
              "      <td>66.1951</td>\n",
              "      <td>77.8682</td>\n",
              "      <td>94.4795</td>\n",
              "      <td>71.4673</td>\n",
              "    </tr>\n",
              "    <tr>\n",
              "      <th>Noweight_LSTM</th>\n",
              "      <td>93.2025</td>\n",
              "      <td>91.5804</td>\n",
              "      <td>99.4652</td>\n",
              "      <td>92.6388</td>\n",
              "      <td>86.2745</td>\n",
              "      <td>83.6502</td>\n",
              "      <td>82.7235</td>\n",
              "      <td>97.2644</td>\n",
              "      <td>85.5513</td>\n",
              "      <td>87.1739</td>\n",
              "      <td>84.778</td>\n",
              "      <td>82.9562</td>\n",
              "      <td>97.8949</td>\n",
              "      <td>85.8351</td>\n",
              "    </tr>\n",
              "    <tr>\n",
              "      <th>SVM</th>\n",
              "      <td>90.9212</td>\n",
              "      <td>86.2812</td>\n",
              "      <td>100</td>\n",
              "      <td>86.2812</td>\n",
              "      <td>68.9698</td>\n",
              "      <td>62.365</td>\n",
              "      <td>62.3466</td>\n",
              "      <td>100</td>\n",
              "      <td>62.365</td>\n",
              "      <td>73.4655</td>\n",
              "      <td>70.6768</td>\n",
              "      <td>70.1633</td>\n",
              "      <td>100</td>\n",
              "      <td>70.6768</td>\n",
              "    </tr>\n",
              "    <tr>\n",
              "      <th>Noweight_SVM</th>\n",
              "      <td>95.4168</td>\n",
              "      <td>89.5108</td>\n",
              "      <td>100</td>\n",
              "      <td>89.5108</td>\n",
              "      <td>92.548</td>\n",
              "      <td>84.2205</td>\n",
              "      <td>87.6566</td>\n",
              "      <td>100</td>\n",
              "      <td>84.2205</td>\n",
              "      <td>95.7585</td>\n",
              "      <td>86.0465</td>\n",
              "      <td>89.909</td>\n",
              "      <td>100</td>\n",
              "      <td>86.0465</td>\n",
              "    </tr>\n",
              "  </tbody>\n",
              "</table>\n",
              "</div>"
            ],
            "text/plain": [
              "              Train_Precision Train_Recall  ... Test_Auc Test_Accuracy\n",
              "LSTM                  84.5375      80.5474  ...  94.4795       71.4673\n",
              "Noweight_LSTM         93.2025      91.5804  ...  97.8949       85.8351\n",
              "SVM                   90.9212      86.2812  ...      100       70.6768\n",
              "Noweight_SVM          95.4168      89.5108  ...      100       86.0465\n",
              "\n",
              "[4 rows x 14 columns]"
            ]
          },
          "metadata": {
            "tags": []
          },
          "execution_count": 159
        }
      ]
    },
    {
      "cell_type": "code",
      "metadata": {
        "id": "kXc6Dwv1yvAR"
      },
      "source": [
        "accuracy_df.to_excel('report.xlsx')"
      ],
      "execution_count": 160,
      "outputs": []
    },
    {
      "cell_type": "code",
      "metadata": {
        "id": "kmhW-TTmTTvt"
      },
      "source": [
        ""
      ],
      "execution_count": null,
      "outputs": []
    }
  ]
}